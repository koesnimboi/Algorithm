{
 "cells": [
  {
   "cell_type": "code",
   "execution_count": 1,
   "metadata": {},
   "outputs": [
    {
     "name": "stdout",
     "output_type": "stream",
     "text": [
      "1\n",
      "2\n",
      "2\n",
      "0\n",
      "1\n",
      "2\n",
      "-1\n",
      "0\n",
      "1\n",
      "-1\n",
      "0\n",
      "3\n"
     ]
    }
   ],
   "source": [
    "N = int(input())\n",
    "que = []\n",
    "answers = []\n",
    "\n",
    "for _ in range(N):\n",
    "    inputs = input().split(' ')\n",
    "    \n",
    "    if inputs[0] == 'push':\n",
    "        que.append(inputs[1])\n",
    "    \n",
    "    elif inputs[0] == 'pop':\n",
    "        if len(que) != 0 :\n",
    "            answers.append(que[0])\n",
    "            que.pop(0)\n",
    "            \n",
    "        else:\n",
    "            answers.append(-1)\n",
    "            \n",
    "    elif inputs[0] == 'size':\n",
    "        answers.append(len(que))\n",
    "    \n",
    "    elif inputs[0] == 'empty':\n",
    "        if len(que) == 0:\n",
    "            answers.append(1)\n",
    "        else:\n",
    "            answers.append(0)\n",
    "    \n",
    "    elif inputs[0] == 'front':\n",
    "        if len(que) != 0:\n",
    "            answers.append(que[0])\n",
    "        \n",
    "        else:\n",
    "            answers.append(-1)\n",
    "            \n",
    "    else:\n",
    "        if len(que) != 0:\n",
    "            answers.append(que[-1])\n",
    "        else:\n",
    "            answers.append(-1)\n",
    "\n",
    "for i in range(len(answers)):\n",
    "    print(answers[i])"
   ]
  }
 ],
 "metadata": {
  "kernelspec": {
   "display_name": "Python 3.9.6 64-bit",
   "language": "python",
   "name": "python3"
  },
  "language_info": {
   "codemirror_mode": {
    "name": "ipython",
    "version": 3
   },
   "file_extension": ".py",
   "mimetype": "text/x-python",
   "name": "python",
   "nbconvert_exporter": "python",
   "pygments_lexer": "ipython3",
   "version": "3.9.6"
  },
  "orig_nbformat": 4,
  "vscode": {
   "interpreter": {
    "hash": "31f2aee4e71d21fbe5cf8b01ff0e069b9275f58929596ceb00d14d90e3e16cd6"
   }
  }
 },
 "nbformat": 4,
 "nbformat_minor": 2
}
