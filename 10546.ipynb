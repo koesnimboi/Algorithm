{
 "cells": [
  {
   "cell_type": "code",
   "execution_count": 1,
   "metadata": {},
   "outputs": [
    {
     "name": "stdout",
     "output_type": "stream",
     "text": [
      "mislav\n"
     ]
    }
   ],
   "source": [
    "### 시간초과 ###\n",
    "\n",
    "# import sys\n",
    "\n",
    "# input = sys.stdin.readline\n",
    "\n",
    "N = int(input())\n",
    "part_set = []\n",
    "\n",
    "for _ in range(N):\n",
    "    part_set.append(input())\n",
    "\n",
    "for _ in range(N-1):\n",
    "    finish = input()\n",
    "\n",
    "    if finish in part_set:\n",
    "        part_set.remove(finish)\n",
    "\n",
    "print(*part_set)"
   ]
  },
  {
   "cell_type": "code",
   "execution_count": 16,
   "metadata": {},
   "outputs": [
    {
     "name": "stdout",
     "output_type": "stream",
     "text": [
      "mislav\n"
     ]
    }
   ],
   "source": [
    "# import sys\n",
    "\n",
    "# input = sys.stdin.readline\n",
    "\n",
    "from collections import defaultdict\n",
    "\n",
    "N = int(input())\n",
    "part_dict = defaultdict(int)\n",
    "\n",
    "for i in range(2*N-1):\n",
    "    if i > N-1:\n",
    "        part_dict[input()] -= 1\n",
    "    else:\n",
    "        part_dict[input()] += 1\n",
    "\n",
    "tmp = list(part_dict.values())\n",
    "tmp2 = list(part_dict.keys())\n",
    "idx = tmp.index(1)\n",
    "\n",
    "nonfinish = tmp2[idx]\n",
    "\n",
    "print(nonfinish)"
   ]
  },
  {
   "cell_type": "markdown",
   "metadata": {},
   "source": [
    "> 후기\n",
    "\n",
    "- 첫 코드로 시간 초과가 떴었고 중복을 담을 수 있어야 하기 때문에 for문을 줄이고 set을 사용하면 안된다고 판단했음\n",
    "\n",
    "- 한 개의 for문으로 짜기에는 list로 append하는 것 보다 dict에 integer를 가감해주는 게 좋다고 판단했음"
   ]
  }
 ],
 "metadata": {
  "kernelspec": {
   "display_name": "Python 3.9.6 64-bit",
   "language": "python",
   "name": "python3"
  },
  "language_info": {
   "codemirror_mode": {
    "name": "ipython",
    "version": 3
   },
   "file_extension": ".py",
   "mimetype": "text/x-python",
   "name": "python",
   "nbconvert_exporter": "python",
   "pygments_lexer": "ipython3",
   "version": "3.9.6"
  },
  "orig_nbformat": 4,
  "vscode": {
   "interpreter": {
    "hash": "31f2aee4e71d21fbe5cf8b01ff0e069b9275f58929596ceb00d14d90e3e16cd6"
   }
  }
 },
 "nbformat": 4,
 "nbformat_minor": 2
}
