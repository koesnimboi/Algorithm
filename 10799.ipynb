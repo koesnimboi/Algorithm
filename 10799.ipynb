{
 "cells": [
  {
   "cell_type": "code",
   "execution_count": 1,
   "metadata": {},
   "outputs": [
    {
     "name": "stdout",
     "output_type": "stream",
     "text": [
      "17\n"
     ]
    }
   ],
   "source": [
    "inputs = list(input())\n",
    "sum = 0\n",
    "st = []\n",
    "\n",
    "for i in range(len(inputs)):\n",
    "    if inputs[i] == '(':\n",
    "        st.append('(')\n",
    "    \n",
    "    else:\n",
    "        if inputs[i-1] =='(':\n",
    "            st.pop()\n",
    "            sum += len(st)\n",
    "        else:\n",
    "            st.pop()\n",
    "            sum += 1\n",
    "    \n",
    "print(sum)"
   ]
  }
 ],
 "metadata": {
  "kernelspec": {
   "display_name": "Python 3.9.6 64-bit",
   "language": "python",
   "name": "python3"
  },
  "language_info": {
   "codemirror_mode": {
    "name": "ipython",
    "version": 3
   },
   "file_extension": ".py",
   "mimetype": "text/x-python",
   "name": "python",
   "nbconvert_exporter": "python",
   "pygments_lexer": "ipython3",
   "version": "3.9.6"
  },
  "orig_nbformat": 4,
  "vscode": {
   "interpreter": {
    "hash": "31f2aee4e71d21fbe5cf8b01ff0e069b9275f58929596ceb00d14d90e3e16cd6"
   }
  }
 },
 "nbformat": 4,
 "nbformat_minor": 2
}
