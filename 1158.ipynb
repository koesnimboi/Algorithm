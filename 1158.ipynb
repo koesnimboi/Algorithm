{
 "cells": [
  {
   "cell_type": "code",
   "execution_count": 1,
   "metadata": {},
   "outputs": [
    {
     "name": "stdout",
     "output_type": "stream",
     "text": [
      "<3, 6, 2, 7, 5, 1, 4>\n"
     ]
    }
   ],
   "source": [
    "num, count = map(int, input().split())\n",
    "\n",
    "lst = [i for i in range(1, num+1)]\n",
    "result = []\n",
    "seq = count-1\n",
    "\n",
    "for i in range(num):\n",
    "    \n",
    "    if len(lst) > seq:\n",
    "        result.append(lst.pop(seq))\n",
    "        seq += count -1\n",
    "    \n",
    "    elif len(lst) <= seq:\n",
    "        seq = seq % len(lst)\n",
    "        result.append(lst.pop(seq))\n",
    "        seq += count -1\n",
    "    \n",
    "print(\"<\", ', '.join(str(i) for i in result)[:], \">\", sep=\"\")"
   ]
  }
 ],
 "metadata": {
  "kernelspec": {
   "display_name": "Python 3.9.6 64-bit",
   "language": "python",
   "name": "python3"
  },
  "language_info": {
   "codemirror_mode": {
    "name": "ipython",
    "version": 3
   },
   "file_extension": ".py",
   "mimetype": "text/x-python",
   "name": "python",
   "nbconvert_exporter": "python",
   "pygments_lexer": "ipython3",
   "version": "3.9.6"
  },
  "orig_nbformat": 4,
  "vscode": {
   "interpreter": {
    "hash": "31f2aee4e71d21fbe5cf8b01ff0e069b9275f58929596ceb00d14d90e3e16cd6"
   }
  }
 },
 "nbformat": 4,
 "nbformat_minor": 2
}
