{
 "cells": [
  {
   "cell_type": "code",
   "execution_count": 1,
   "metadata": {},
   "outputs": [
    {
     "name": "stdout",
     "output_type": "stream",
     "text": [
      "mirkovniz\n"
     ]
    }
   ],
   "source": [
    "inputString = input() \n",
    "deleteString = input() \n",
    "lastChar = deleteString[-1] \n",
    "stack = [] \n",
    "size = len(deleteString) \n",
    "\n",
    "for i in inputString: \n",
    "    stack.append(i) \n",
    "    \n",
    "    if i == lastChar and ''.join(stack[-size:]) == deleteString: \n",
    "        del stack[-size:] \n",
    "        \n",
    "if stack: \n",
    "    print(''.join(stack))\n",
    "else: \n",
    "    print(\"FRULA\")"
   ]
  }
 ],
 "metadata": {
  "kernelspec": {
   "display_name": "Python 3.9.6 64-bit",
   "language": "python",
   "name": "python3"
  },
  "language_info": {
   "codemirror_mode": {
    "name": "ipython",
    "version": 3
   },
   "file_extension": ".py",
   "mimetype": "text/x-python",
   "name": "python",
   "nbconvert_exporter": "python",
   "pygments_lexer": "ipython3",
   "version": "3.9.6"
  },
  "orig_nbformat": 4,
  "vscode": {
   "interpreter": {
    "hash": "31f2aee4e71d21fbe5cf8b01ff0e069b9275f58929596ceb00d14d90e3e16cd6"
   }
  }
 },
 "nbformat": 4,
 "nbformat_minor": 2
}
