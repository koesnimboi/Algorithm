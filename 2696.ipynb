{
 "cells": [
  {
   "cell_type": "code",
   "execution_count": 34,
   "metadata": {},
   "outputs": [
    {
     "name": "stdout",
     "output_type": "stream",
     "text": [
      "5\n",
      "1 2 3 4 5\n",
      "5\n",
      "9 8 7 6 5\n",
      "12\n",
      "23 41 13 22 -3 24 -31 -11 -8 -7\n",
      "3 5\n"
     ]
    }
   ],
   "source": [
    "# import sys\n",
    "\n",
    "# input = sys.stdin.readline\n",
    "\n",
    "T = int(input())\n",
    "\n",
    "for _ in range(T):\n",
    "    len_num = int(input())\n",
    "    num_lst, median_lst = [], []\n",
    "\n",
    "    for i in range(len_num):\n",
    "        num_lst.append(int(input()))\n",
    "\n",
    "        if len(num_lst) % 2 == 1:\n",
    "            median = num_lst[len(num_lst)//2]\n",
    "            median_lst.append(median)\n",
    "\n",
    "    print(len(median_lst))\n",
    "\n",
    "    for i in range(0, len(median_lst), 10):\n",
    "        print(*median_lst[i:i+10])\n"
   ]
  },
  {
   "cell_type": "code",
   "execution_count": 35,
   "metadata": {},
   "outputs": [
    {
     "name": "stdout",
     "output_type": "stream",
     "text": [
      "5\n",
      "1 2 3 4 5 \n",
      "5\n",
      "9 8 7 6 5 \n",
      "12\n",
      "23 23 22 22 13 3 5 5 3 -3 \n",
      "-7 -3 \n"
     ]
    }
   ],
   "source": [
    "# import sys\n",
    "# input = sys.stdin.readline\n",
    "\n",
    "for test in range(int(input())):\n",
    "    M = int(input())\n",
    "\n",
    "    seqs = []\n",
    "    for i in range(M//10+1):\n",
    "        seqs.extend(list(map(int,input().split())))\n",
    "\n",
    "    print(M//2+1)\n",
    "    print(seqs[0], end=\" \")\n",
    "\n",
    "    if M !=1:\n",
    "        cnt=1\n",
    "        for i in range(2,M,2):\n",
    "            print(sorted(seqs[:i+1])[(i+1)//2], end=\" \")\n",
    "            \n",
    "            cnt+=1\n",
    "            if cnt==10:\n",
    "                print()\n",
    "                cnt=0\n",
    "        else:\n",
    "            print()"
   ]
  },
  {
   "cell_type": "code",
   "execution_count": 39,
   "metadata": {},
   "outputs": [
    {
     "name": "stdout",
     "output_type": "stream",
     "text": [
      "5\n",
      "1 2 3 4 5 \n",
      "5\n",
      "9 8 7 6 5 \n",
      "12\n",
      "23 23 22 22 13 3 5 5 3 -3 \n",
      "-7 -3 \n"
     ]
    }
   ],
   "source": [
    "import heapq\n",
    "# import sys\n",
    "\n",
    "# input = sys.stdin.readline\n",
    "\n",
    "def check(data):\n",
    "    left, right = [], []\n",
    "    middle = data[0]\n",
    "    result = [middle]\n",
    "    for idx, val in enumerate(data[1:], 1):\n",
    "        if val > middle: # 중앙값 보다 크면\n",
    "            heapq.heappush(right, val) # 최소 힙인 오른쪽 힙에 삽입\n",
    "        else: # 중앙값 보다 작으면\n",
    "            heapq.heappush(left, -val) # 최대 힙인 왼쪽 힙에 삽입\n",
    "        if idx % 2 == 0:  # 삽입이 2번 이루어질 때마다 길이를 비교\n",
    "            if len(left) < len(right):  # 오른쪽 힙이 왼쪽 힙보다 길이가 길다면\n",
    "                heapq.heappush(left, -middle)  # 기존의 중앙값은 왼쪽 힙에 삽입\n",
    "                middle = heapq.heappop(right)  # 오른쪽 힙의 값을 중앙값으로 이용\n",
    "            elif len(left) > len(right):  # 왼쪽 힙이 오른쪽 힙보다 길이가 길다면\n",
    "                heapq.heappush(right, middle)  # 기존의 중앙값을 오른쪽 힙에 삽입\n",
    "                middle = -heapq.heappop(left)  # 왼쪽 힙의 값을 중앙값으로 이용\n",
    "            result.append(middle)\n",
    "\n",
    "    print(len(result))\n",
    "\n",
    "    for i in range(len(result)):\n",
    "        if (i + 1) != 1 and (i + 1) % 10 == 1:\n",
    "            print()\n",
    "        print(result[i], end=' ')\n",
    "    print()\n",
    "\n",
    "\n",
    "t = int(input().rstrip())\n",
    "\n",
    "for _ in range(t):\n",
    "    m = int(input())\n",
    "    data = []\n",
    "\n",
    "    if m % 10 == 0:\n",
    "        for _ in range(m // 10):\n",
    "            data.extend(list(map(int, input().rstrip().split())))\n",
    "    else:\n",
    "        for _ in range(m // 10 + 1):\n",
    "            data.extend(list(map(int, input().rstrip().split())))\n",
    "\n",
    "    check(data)"
   ]
  },
  {
   "cell_type": "markdown",
   "metadata": {},
   "source": [
    "> 후기\n",
    "\n",
    "- 내가 한 가운데 인덱스 활용법은 연산 횟수 내에 해결 불가능\n",
    "- 우선순위큐(heap)를 사용한다.(PrioriyQueue도 있지만 코테 환경에서는 heapq이 빠름)\n",
    "- 순서대로 입력받은 현재 중앙값 기준, 중앙값 보다 큰 값들을 모은 right heap과 작은 것들을 모은 left heap을 두고\n",
    "\n",
    "    right에서 가장 작은 값(heapq 특성상 자동정렬됨)과 left에서 가장 큰 값, 입력 받은 값 3가지를 비교해서 그 중 중앙값을 고르는 원리\n",
    "\n",
    "\n",
    "-> 골드 3이상 되니까 스스로 고민해서 아이디어 내기가 어렵다. 실버 라인 풀이 수를 늘려야 겠음"
   ]
  }
 ],
 "metadata": {
  "kernelspec": {
   "display_name": "Python 3.9.6 64-bit",
   "language": "python",
   "name": "python3"
  },
  "language_info": {
   "codemirror_mode": {
    "name": "ipython",
    "version": 3
   },
   "file_extension": ".py",
   "mimetype": "text/x-python",
   "name": "python",
   "nbconvert_exporter": "python",
   "pygments_lexer": "ipython3",
   "version": "3.9.6"
  },
  "orig_nbformat": 4,
  "vscode": {
   "interpreter": {
    "hash": "31f2aee4e71d21fbe5cf8b01ff0e069b9275f58929596ceb00d14d90e3e16cd6"
   }
  }
 },
 "nbformat": 4,
 "nbformat_minor": 2
}
