{
 "cells": [
  {
   "cell_type": "code",
   "execution_count": 2,
   "metadata": {},
   "outputs": [
    {
     "name": "stdout",
     "output_type": "stream",
     "text": [
      "2\n",
      "1\n",
      "2\n",
      "0\n",
      "2\n",
      "1\n",
      "-1\n",
      "0\n",
      "1\n",
      "-1\n",
      "0\n",
      "3\n"
     ]
    }
   ],
   "source": [
    "from collections import deque\n",
    "import sys\n",
    "\n",
    "N = int(input())\n",
    "D = deque([])\n",
    "answer = []\n",
    "\n",
    "for _ in range(N):\n",
    "    x = input()\n",
    "    z = x.split(' ')\n",
    "    \n",
    "    if z[0] == 'push_front':\n",
    "        D.appendleft(z[1])\n",
    "        \n",
    "    elif z[0] == 'push_back':\n",
    "        D.append(z[1])\n",
    "        \n",
    "    elif z[0] == 'pop_front':\n",
    "        if len(D) > 0:\n",
    "            answer.append(D.popleft())\n",
    "        else:\n",
    "            answer.append(-1)\n",
    "            \n",
    "    elif z[0] == 'pop_back':\n",
    "        if len(D) > 0:\n",
    "            answer.append(D.pop())\n",
    "        else:\n",
    "            answer.append(-1)\n",
    "        \n",
    "    elif z[0] == 'size':\n",
    "        answer.append(len(D))\n",
    "        \n",
    "    elif z[0] == 'empty':\n",
    "        if len(D) == 0:\n",
    "            answer.append(1)\n",
    "        else:\n",
    "            answer.append(0)\n",
    "    \n",
    "    elif z[0] == 'front':\n",
    "        if len(D) > 0:\n",
    "            answer.append(D[0])\n",
    "        else:\n",
    "            answer.append(-1)\n",
    "            \n",
    "    elif z[0] == 'back':\n",
    "        if len(D) > 0:\n",
    "            answer.append(D[-1])\n",
    "        else:\n",
    "            answer.append(-1)\n",
    "\n",
    "for i in range(len(answer)):\n",
    "    print(answer[i])"
   ]
  }
 ],
 "metadata": {
  "kernelspec": {
   "display_name": "Python 3.9.6 64-bit",
   "language": "python",
   "name": "python3"
  },
  "language_info": {
   "codemirror_mode": {
    "name": "ipython",
    "version": 3
   },
   "file_extension": ".py",
   "mimetype": "text/x-python",
   "name": "python",
   "nbconvert_exporter": "python",
   "pygments_lexer": "ipython3",
   "version": "3.9.6"
  },
  "orig_nbformat": 4,
  "vscode": {
   "interpreter": {
    "hash": "31f2aee4e71d21fbe5cf8b01ff0e069b9275f58929596ceb00d14d90e3e16cd6"
   }
  }
 },
 "nbformat": 4,
 "nbformat_minor": 2
}
