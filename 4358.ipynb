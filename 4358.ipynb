{
 "cells": [
  {
   "cell_type": "code",
   "execution_count": 19,
   "metadata": {},
   "outputs": [
    {
     "name": "stdout",
     "output_type": "stream",
     "text": [
      "Ash 13.7931\n",
      "Aspen 3.4483\n",
      "Basswood 3.4483\n",
      "Beech 3.4483\n",
      "Black Walnut 3.4483\n",
      "Cherry 3.4483\n",
      "Cotoonwood 3.4483\n",
      "Cypress 3.4483\n",
      "Gum 3.4483\n",
      "Hackberry 3.4483\n",
      "Hard Maple 3.4483\n",
      "Hickory 3.4483\n",
      "Pecan 3.4483\n",
      "Poplan 3.4483\n",
      "Red Alder 3.4483\n",
      "Red Elm 3.4483\n",
      "Red Oak 6.8966\n",
      "Sassafras 3.4483\n",
      "Soft Maple 3.4483\n",
      "Sycamore 3.4483\n",
      "White Oak 10.3448\n",
      "Willow 3.4483\n",
      "Yellow Birch 3.4483\n"
     ]
    }
   ],
   "source": [
    "from collections import defaultdict\n",
    "import sys\n",
    "\n",
    "input = sys.stdin.readline\n",
    "trees = defaultdict(int)\n",
    "tree_cnt = 0\n",
    "\n",
    "while True:\n",
    "    tree = input().rstrip()\n",
    "    if not tree:\n",
    "        break\n",
    "    trees[tree] += 1\n",
    "    tree_cnt += 1\n",
    "\n",
    "tree_lst = sorted(list(trees.keys()))\n",
    "\n",
    "for t in tree_lst:\n",
    "    ratio = (trees[t]/tree_cnt)*100\n",
    "    print('%s %.4f'%(t, ratio))"
   ]
  },
  {
   "cell_type": "markdown",
   "metadata": {},
   "source": [
    "- 생각보다 간단한 원리라서 이렇게 하면 메모리나 시간 제한이 뜨겠지 라고 생각했음\n",
    "- collections 모듈의 defaultdict를 활용하면 dict에 값을 추가할 때 dict 공백 경우의 조건을 달아주지 않아도 되어서 편리함\n",
    "- 이 문제처럼 소수점 자리에 대한 조건이 있을 경우엔 round()를 쓰지 말자\n",
    "- 이유는 모르겠지만 f-string으로 제출할 경우 오류가 생김"
   ]
  }
 ],
 "metadata": {
  "kernelspec": {
   "display_name": "Python 3.8.9 64-bit",
   "language": "python",
   "name": "python3"
  },
  "language_info": {
   "codemirror_mode": {
    "name": "ipython",
    "version": 3
   },
   "file_extension": ".py",
   "mimetype": "text/x-python",
   "name": "python",
   "nbconvert_exporter": "python",
   "pygments_lexer": "ipython3",
   "version": "3.8.9"
  },
  "orig_nbformat": 4,
  "vscode": {
   "interpreter": {
    "hash": "31f2aee4e71d21fbe5cf8b01ff0e069b9275f58929596ceb00d14d90e3e16cd6"
   }
  }
 },
 "nbformat": 4,
 "nbformat_minor": 2
}
