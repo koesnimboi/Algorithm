{
 "cells": [
  {
   "cell_type": "code",
   "execution_count": 1,
   "metadata": {},
   "outputs": [
    {
     "name": "stdout",
     "output_type": "stream",
     "text": [
      "1\n",
      "4\n",
      "5\n",
      "3\n",
      "2\n"
     ]
    }
   ],
   "source": [
    "num = int(input())\n",
    "balloon_lst = [i+1 for i in range(num)]\n",
    "balloon_with_num = list(map(int, input().split(' ')))\n",
    "answer = []\n",
    "seq = 0\n",
    "\n",
    "while True:\n",
    "    answer.append(balloon_lst[seq])\n",
    "    balloon_lst.pop(seq)\n",
    "    step = balloon_with_num.pop(seq)\n",
    "    \n",
    "    if not balloon_lst:\n",
    "        break\n",
    "        \n",
    "    if step > 0:\n",
    "        seq = (seq + step - 1 )% len(balloon_lst)\n",
    "    else:\n",
    "        seq = (seq + step)% len(balloon_lst)\n",
    "\n",
    "for i in answer:\n",
    "    print(i)"
   ]
  }
 ],
 "metadata": {
  "kernelspec": {
   "display_name": "Python 3.9.6 64-bit",
   "language": "python",
   "name": "python3"
  },
  "language_info": {
   "codemirror_mode": {
    "name": "ipython",
    "version": 3
   },
   "file_extension": ".py",
   "mimetype": "text/x-python",
   "name": "python",
   "nbconvert_exporter": "python",
   "pygments_lexer": "ipython3",
   "version": "3.9.6"
  },
  "orig_nbformat": 4,
  "vscode": {
   "interpreter": {
    "hash": "31f2aee4e71d21fbe5cf8b01ff0e069b9275f58929596ceb00d14d90e3e16cd6"
   }
  }
 },
 "nbformat": 4,
 "nbformat_minor": 2
}
