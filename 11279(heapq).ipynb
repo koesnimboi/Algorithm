{
 "cells": [
  {
   "cell_type": "markdown",
   "metadata": {},
   "source": [
    "> heapq\n",
    "\n",
    ": 힙은 특정한 규칙을 가지는 트리\n",
    "\n",
    ": 최댓값과 최솟값을 찾는 연산을 빠르게 하기 위해 고안된 완전이진트리를 기본으로 함\n",
    "\n",
    ": A가 B의 부모노드이면, A의 키 값과 B의 키 값 사이에는 대소 관계가 성립한다\n",
    "\n",
    "    -> 최소 힙(Min Heap) : 부모 노드의 키 값이 자식 노드의 키 값보다 항상 작은 힙\n",
    "    -> 최대 힙(Max Heap) : 부모 노드의 키 값이 자식 노드의 키 값보다 항상 큰 힙\n",
    "\n",
    ": 키 값의 대소 관계는 부모/자식 간에만 성립하고, 형제 노드 사이에는 대소 관계가 정해지지 않음"
   ]
  },
  {
   "cell_type": "markdown",
   "metadata": {},
   "source": [
    "> heapq in Python\n",
    "\n",
    ": 항상 상위 원소가 자식 원소 보다 작거나 같은 최소 힙의 형태로 정렬됨\n",
    "\n",
    "\n",
    ">> Function in heapq module\n",
    "\n",
    "1. 힙 생성 / 원소 추가\n",
    "\n",
    "    heap = []\n",
    "\n",
    "    heapq.heappush(heap, 50)\n",
    "\n",
    "    - 힙 자료형으로 변환\n",
    "\n",
    "        heap2 = [50]\n",
    "\n",
    "        heapq.heapify(heap2)\n",
    "\n",
    "2. 힙에서 원소 삭제 : 가장 작은 원소를 힙에서 제거함과 동시에 결과값으로 리턴\n",
    "\n",
    "    heapq.heappop(heap)\n",
    "\n",
    ">> Make Max Heap in Python\n",
    "\n",
    "idea : y = -x 변환을 하면 최솟값 정렬이 최댓값 정렬로 바뀜\n",
    "\n",
    "1. 힙에 원소를 추가할 때 (-item, item)의 튜플 형태로 넣어주면 튜플의 첫 번째 원소를 우선순위로 힙을 구성 \n",
    "\n",
    "2. 이 떄, 가장 큰 원소가 부호가 바뀌었기 때문에 최솟값 정렬에 의해 맨 앞으로 정렬됨\n",
    "\n",
    "3. 실제 원소 값은 튜플의 두 번째 자리에 저장되어 있음으로 [1] 인덱싱을 통한 heappop으로 최댓값을 반환"
   ]
  },
  {
   "cell_type": "code",
   "execution_count": 2,
   "metadata": {},
   "outputs": [
    {
     "name": "stdout",
     "output_type": "stream",
     "text": [
      "0\n",
      "2\n",
      "1\n",
      "3\n",
      "2\n",
      "1\n",
      "0\n",
      "0\n"
     ]
    }
   ],
   "source": [
    "import heapq\n",
    "import sys\n",
    "\n",
    "input = sys.stdin.readline\n",
    "\n",
    "N = int(input())\n",
    "heap = []\n",
    "\n",
    "for _ in range(N):\n",
    "    x = int(input())\n",
    "\n",
    "    if x > 0:\n",
    "        heapq.heappush(heap, (-x, x))\n",
    "    \n",
    "    elif x == 0:\n",
    "        if len(heap) == 0:\n",
    "            print(0)\n",
    "        else:\n",
    "            print(heapq.heappop(heap)[1])"
   ]
  }
 ],
 "metadata": {
  "kernelspec": {
   "display_name": "Python 3.8.9 64-bit",
   "language": "python",
   "name": "python3"
  },
  "language_info": {
   "codemirror_mode": {
    "name": "ipython",
    "version": 3
   },
   "file_extension": ".py",
   "mimetype": "text/x-python",
   "name": "python",
   "nbconvert_exporter": "python",
   "pygments_lexer": "ipython3",
   "version": "3.8.9"
  },
  "orig_nbformat": 4,
  "vscode": {
   "interpreter": {
    "hash": "31f2aee4e71d21fbe5cf8b01ff0e069b9275f58929596ceb00d14d90e3e16cd6"
   }
  }
 },
 "nbformat": 4,
 "nbformat_minor": 2
}
