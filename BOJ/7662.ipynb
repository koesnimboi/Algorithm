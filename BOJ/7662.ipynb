{
 "cells": [
  {
   "cell_type": "code",
   "execution_count": 2,
   "metadata": {},
   "outputs": [
    {
     "name": "stdout",
     "output_type": "stream",
     "text": [
      "EMPTY\n",
      "333 -45\n"
     ]
    }
   ],
   "source": [
    "from collections import deque\n",
    "import sys\n",
    "\n",
    "input = sys.stdin.readline\n",
    "\n",
    "T = int(input())\n",
    "\n",
    "for _ in range(T):\n",
    "    k = int(input())\n",
    "    queue = deque()\n",
    "\n",
    "    for _ in range(k):\n",
    "        operator, num = input().split()\n",
    "\n",
    "        if operator == 'I':\n",
    "            queue.append(int(num))\n",
    "        \n",
    "        elif operator == 'D':\n",
    "            if len(queue) == 0:\n",
    "                pass\n",
    "            else:\n",
    "                if num == '1':\n",
    "                    queue.remove(max(queue))\n",
    "                else:\n",
    "                    queue.remove(min(queue))\n",
    "\n",
    "    if len(queue) == 0:\n",
    "        print('EMPTY')\n",
    "    else:\n",
    "        print(max(queue), min(queue))"
   ]
  },
  {
   "cell_type": "markdown",
   "metadata": {},
   "source": [
    "> 문제점\n",
    "\n",
    "- 우선순위 큐를 구현하려면 힙을 썼어야 됐는데 이 점을 인지하지 못했음\n",
    "\n",
    "- deque를 사용하는 경우 시간 복잡도 측면에서 삭제 시 O(1)의 복잡도를 보장 받지만, 입력 시 O(N)의 복잡도를 지니므로 부적절함\n",
    "\n",
    "- 그래도 골드 난이도 문제인데 너무 쉽게 생각했던 것 같음"
   ]
  },
  {
   "cell_type": "code",
   "execution_count": 4,
   "metadata": {},
   "outputs": [
    {
     "name": "stdout",
     "output_type": "stream",
     "text": [
      "EMPTY\n",
      "333 -45\n"
     ]
    }
   ],
   "source": [
    "import heapq\n",
    "import sys\n",
    "\n",
    "input = sys.stdin.readline\n",
    "\n",
    "T = int(input())\n",
    "\n",
    "for _ in range(T):\n",
    "    k = int(input())\n",
    "    visited = [False] * 1000001\n",
    "    min_heap, max_heap = [], []\n",
    "\n",
    "    for i in range(k):\n",
    "        operator, num = input().split()\n",
    "        if operator == 'I':\n",
    "            heapq.heappush(min_heap, (int(num), i))\n",
    "            heapq.heappush(max_heap, (-int(num), i))\n",
    "            visited[i] = True\n",
    "        else:\n",
    "            if num == '-1':\n",
    "                while min_heap and not visited[min_heap[0][1]]:\n",
    "                    heapq.heappop(min_heap)\n",
    "                if min_heap:\n",
    "                    visited[min_heap[0][1]] = False\n",
    "                    heapq.heappop(min_heap)\n",
    "\n",
    "            if num == '1':\n",
    "                while max_heap and not visited[max_heap[0][1]]:\n",
    "                    heapq.heappop(max_heap)\n",
    "                if max_heap:\n",
    "                    visited[max_heap[0][1]] = False\n",
    "                    heapq.heappop(max_heap)\n",
    "\n",
    "    if True not in visited:\n",
    "        print(\"EMPTY\")\n",
    "    else:\n",
    "        while min_heap and not visited[min_heap[0][1]]:\n",
    "            heapq.heappop(min_heap)\n",
    "        while max_heap and not visited[max_heap[0][1]]:\n",
    "            heapq.heappop(max_heap)\n",
    "\n",
    "        print(-max_heap[0][0], min_heap[0][0])"
   ]
  },
  {
   "cell_type": "markdown",
   "metadata": {},
   "source": [
    "> 원리 \n",
    "- 힙 구조의 경우 자동으로 최소값 정렬을 해준다는 점을 이용\n",
    "\n",
    "1. 삽입\n",
    "- 마이너스를 활용한 최대 힙과 기본 최소 힙을 나누어 푸시\n",
    "- 나중에 삭제될 때를 대비해서 다른 큐에서 삭제되었는지를 판단할 수 있도록 visited를 생성 후, 삽입 시 True로 바꿈\n",
    "\n",
    "2. 제거\n",
    "- 삽입 시 visited=True로 바꾸었으므로 제거 시 visited=False로 되돌려 놓음\n",
    "- 모든 연산이 끝난 후에도 visited=False 상태이지만 각 힙에 존재하는 원소가 있을 수 있으므로 다시 한번 삭제해줌\n",
    "\n",
    "\n",
    "> 정리\n",
    "\n",
    ": 우선순위 큐 = 힙\n",
    "\n",
    ": 최대, 최소 문제 같은 경우에 힙을 고려해보도록 하자\n"
   ]
  }
 ],
 "metadata": {
  "kernelspec": {
   "display_name": "Python 3.9.6 64-bit",
   "language": "python",
   "name": "python3"
  },
  "language_info": {
   "codemirror_mode": {
    "name": "ipython",
    "version": 3
   },
   "file_extension": ".py",
   "mimetype": "text/x-python",
   "name": "python",
   "nbconvert_exporter": "python",
   "pygments_lexer": "ipython3",
   "version": "3.9.6"
  },
  "orig_nbformat": 4,
  "vscode": {
   "interpreter": {
    "hash": "31f2aee4e71d21fbe5cf8b01ff0e069b9275f58929596ceb00d14d90e3e16cd6"
   }
  }
 },
 "nbformat": 4,
 "nbformat_minor": 2
}
