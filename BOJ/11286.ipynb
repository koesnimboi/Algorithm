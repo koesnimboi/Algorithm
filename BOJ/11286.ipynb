{
 "cells": [
  {
   "cell_type": "code",
   "execution_count": 44,
   "metadata": {},
   "outputs": [
    {
     "name": "stdout",
     "output_type": "stream",
     "text": [
      "-1\n",
      "1\n",
      "0\n",
      "-1\n",
      "-1\n",
      "1\n",
      "1\n",
      "-2\n",
      "2\n",
      "0\n"
     ]
    }
   ],
   "source": [
    "import heapq\n",
    "# import sys\n",
    "\n",
    "# input = sys.stdin.readline\n",
    "\n",
    "N = int(input())\n",
    "heap = []\n",
    "\n",
    "for _ in range(N):\n",
    "    x = int(input())\n",
    "    if  x != 0 :\n",
    "        heapq.heappush(heap, (abs(x), x))\n",
    "    else:\n",
    "        if len(heap) != 0:\n",
    "            print(heapq.heappop(heap)[1])\n",
    "        else:\n",
    "            print(0)"
   ]
  },
  {
   "cell_type": "markdown",
   "metadata": {},
   "source": [
    "- 최대 힙(Max Heapq)과 유사한 코드\n",
    "- abs()가 기본 내장 함수였던 걸 신경 못써서 다른 방식으로 절댓값을 처리하려 해서 오래 걸림\n",
    "- (abs(x), x) 방식으로 heappush를 하게 되면 (절댓값, 원본 값)의 튜플형으로 추가되고 heapq의 기본 정렬 방식에 의해 절댓값이 작은 순으로 정렬됨\n",
    "- 이후엔 heappop으로 원본 값을 pop(출력 및 제거)하게 됨"
   ]
  }
 ],
 "metadata": {
  "kernelspec": {
   "display_name": "Python 3.8.9 64-bit",
   "language": "python",
   "name": "python3"
  },
  "language_info": {
   "codemirror_mode": {
    "name": "ipython",
    "version": 3
   },
   "file_extension": ".py",
   "mimetype": "text/x-python",
   "name": "python",
   "nbconvert_exporter": "python",
   "pygments_lexer": "ipython3",
   "version": "3.8.9"
  },
  "orig_nbformat": 4,
  "vscode": {
   "interpreter": {
    "hash": "31f2aee4e71d21fbe5cf8b01ff0e069b9275f58929596ceb00d14d90e3e16cd6"
   }
  }
 },
 "nbformat": 4,
 "nbformat_minor": 2
}
