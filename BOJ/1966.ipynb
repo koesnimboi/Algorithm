{
 "cells": [
  {
   "cell_type": "code",
   "execution_count": 3,
   "metadata": {},
   "outputs": [
    {
     "name": "stdout",
     "output_type": "stream",
     "text": [
      "1\n",
      "2\n",
      "5\n"
     ]
    }
   ],
   "source": [
    "test_case_num = int(input())\n",
    "\n",
    "for _ in range(test_case_num):\n",
    "    doc_num, check_doc = map(int, input().split(' '))\n",
    "    importance = list(map(int, input().split(' ')))\n",
    "    \n",
    "    check_lst = [0 for _ in range(doc_num)]\n",
    "    check_lst[check_doc] = 1 # check_doc 위치 저장\n",
    "    \n",
    "    count = 0\n",
    "    \n",
    "    while True: # 무한 루프\n",
    "        if importance[0] == max(importance):\n",
    "            count += 1\n",
    "            \n",
    "            if check_lst[0] != 1:\n",
    "                del importance[0]\n",
    "                del check_lst[0]\n",
    "            else:\n",
    "                print(count)\n",
    "                break\n",
    "                \n",
    "        else:\n",
    "            importance.append(importance[0])\n",
    "            check_lst.append(check_lst[0])\n",
    "            \n",
    "            del importance[0]\n",
    "            del check_lst[0]"
   ]
  }
 ],
 "metadata": {
  "kernelspec": {
   "display_name": "Python 3.9.6 64-bit",
   "language": "python",
   "name": "python3"
  },
  "language_info": {
   "codemirror_mode": {
    "name": "ipython",
    "version": 3
   },
   "file_extension": ".py",
   "mimetype": "text/x-python",
   "name": "python",
   "nbconvert_exporter": "python",
   "pygments_lexer": "ipython3",
   "version": "3.9.6"
  },
  "orig_nbformat": 4,
  "vscode": {
   "interpreter": {
    "hash": "31f2aee4e71d21fbe5cf8b01ff0e069b9275f58929596ceb00d14d90e3e16cd6"
   }
  }
 },
 "nbformat": 4,
 "nbformat_minor": 2
}
