{
 "cells": [
  {
   "cell_type": "code",
   "execution_count": 1,
   "metadata": {},
   "outputs": [
    {
     "name": "stdout",
     "output_type": "stream",
     "text": [
      "yes\n",
      "yes\n",
      "no\n",
      "no\n",
      "no\n",
      "yes\n",
      "yes\n"
     ]
    }
   ],
   "source": [
    "while True:\n",
    "    s = input()\n",
    "    if s == '.':\n",
    "        break\n",
    "    stk = []\n",
    "    temp = True\n",
    "    for i in s:\n",
    "        if i == '(' or i == '[':\n",
    "            stk.append(i)\n",
    "        elif i == ')':\n",
    "            if not stk or stk[-1] == '[':\n",
    "                temp = False\n",
    "                break\n",
    "            elif stk[-1] == '(':\n",
    "                stk.pop()\n",
    "        elif i == ']':\n",
    "            if not stk or stk[-1] == '(':\n",
    "                temp = False\n",
    "                break\n",
    "            elif stk[-1] == '[':\n",
    "                stk.pop()\n",
    "    if temp == True and not stk:\n",
    "        print('yes')\n",
    "    else:\n",
    "        print('no')"
   ]
  }
 ],
 "metadata": {
  "kernelspec": {
   "display_name": "Python 3.9.6 64-bit",
   "language": "python",
   "name": "python3"
  },
  "language_info": {
   "codemirror_mode": {
    "name": "ipython",
    "version": 3
   },
   "file_extension": ".py",
   "mimetype": "text/x-python",
   "name": "python",
   "nbconvert_exporter": "python",
   "pygments_lexer": "ipython3",
   "version": "3.9.6"
  },
  "orig_nbformat": 4,
  "vscode": {
   "interpreter": {
    "hash": "31f2aee4e71d21fbe5cf8b01ff0e069b9275f58929596ceb00d14d90e3e16cd6"
   }
  }
 },
 "nbformat": 4,
 "nbformat_minor": 2
}
