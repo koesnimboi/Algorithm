{
 "cells": [
  {
   "cell_type": "code",
   "execution_count": 12,
   "metadata": {},
   "outputs": [
    {
     "data": {
      "text/plain": [
       "4"
      ]
     },
     "execution_count": 12,
     "metadata": {},
     "output_type": "execute_result"
    }
   ],
   "source": [
    "# N, M = map(int, input().split())\n",
    "import sys\n",
    "\n",
    "N, M = map(int, sys.stdin.readline().split())\n",
    "# S = []\n",
    "# for _ in range(N):\n",
    "#     S.append(input())\n",
    "\n",
    "S = set([input() for _ in range(N)])\n",
    "# words = []\n",
    "# for _ in range(M):\n",
    "#     words.append(input())\n",
    "\n",
    "cnt = 0\n",
    "# for word in words:\n",
    "#     for i in range(len(S)):\n",
    "#         if word == S[i]:\n",
    "#             cnt += 1\n",
    "\n",
    "for _ in range(M):\n",
    "    word = input()\n",
    "    if word in S:\n",
    "        cnt += 1    \n",
    "print(cnt)"
   ]
  },
  {
   "cell_type": "markdown",
   "metadata": {},
   "source": [
    "- list comprehension 사용\n",
    "- sys.stdin.readline() 사용 -> pypy3으로 제출\n",
    "- words를 따로 받지 않고 마지막 for문처럼 점검때마다 word를 받고 점검함으로써 for문 줄이기"
   ]
  }
 ],
 "metadata": {
  "kernelspec": {
   "display_name": "Python 3.8.9 64-bit",
   "language": "python",
   "name": "python3"
  },
  "language_info": {
   "codemirror_mode": {
    "name": "ipython",
    "version": 3
   },
   "file_extension": ".py",
   "mimetype": "text/x-python",
   "name": "python",
   "nbconvert_exporter": "python",
   "pygments_lexer": "ipython3",
   "version": "3.8.9"
  },
  "orig_nbformat": 4,
  "vscode": {
   "interpreter": {
    "hash": "31f2aee4e71d21fbe5cf8b01ff0e069b9275f58929596ceb00d14d90e3e16cd6"
   }
  }
 },
 "nbformat": 4,
 "nbformat_minor": 2
}
