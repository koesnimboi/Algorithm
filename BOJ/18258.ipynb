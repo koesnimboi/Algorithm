{
 "cells": [
  {
   "cell_type": "code",
   "execution_count": null,
   "metadata": {},
   "outputs": [],
   "source": [
    "from collections import deque\n",
    "\n",
    "N = int(input())\n",
    "d = deque([])\n",
    "answer = []\n",
    "\n",
    "for i in range(N):\n",
    "    x = input()\n",
    "    z = x.split()\n",
    "\n",
    "    if z[0] == 'push':\n",
    "        d.append(z[1])\n",
    "        \n",
    "    elif z[0] == 'pop':\n",
    "        if len(d) ==0:\n",
    "            answer.append(-1)\n",
    "        else:\n",
    "            answer.append(d.popleft())\n",
    "    \n",
    "    elif z[0] =='size':\n",
    "        answer.append(len(d))\n",
    "        \n",
    "    elif z[0] == 'empty':\n",
    "        if len(d) == 0:\n",
    "            answer.append(1)\n",
    "            \n",
    "        else:\n",
    "            answer.append(0)\n",
    "            \n",
    "    elif z[0] == 'front':\n",
    "        if len(d) == 0:\n",
    "            answer.append(-1)\n",
    "        \n",
    "        else:\n",
    "            answer.append(d[0])\n",
    "    \n",
    "    elif z[0] == 'back':\n",
    "        if len(d) == 0:\n",
    "            answer.append(-1)\n",
    "        \n",
    "        else:\n",
    "            answer.append(d[-1])\n",
    "                \n",
    "for i in range(len(answer)):\n",
    "    print(answer[i])"
   ]
  },
  {
   "cell_type": "code",
   "execution_count": null,
   "metadata": {},
   "outputs": [],
   "source": []
  }
 ],
 "metadata": {
  "kernelspec": {
   "display_name": "Python 3.9.6 64-bit",
   "language": "python",
   "name": "python3"
  },
  "language_info": {
   "name": "python",
   "version": "3.9.6"
  },
  "orig_nbformat": 4,
  "vscode": {
   "interpreter": {
    "hash": "31f2aee4e71d21fbe5cf8b01ff0e069b9275f58929596ceb00d14d90e3e16cd6"
   }
  }
 },
 "nbformat": 4,
 "nbformat_minor": 2
}
