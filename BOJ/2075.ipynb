{
 "cells": [
  {
   "cell_type": "code",
   "execution_count": 14,
   "metadata": {},
   "outputs": [
    {
     "data": {
      "text/plain": [
       "35"
      ]
     },
     "execution_count": 14,
     "metadata": {},
     "output_type": "execute_result"
    }
   ],
   "source": [
    "# import sys\n",
    "\n",
    "# input = sys.stdin.readline\n",
    "\n",
    "N = int(input())\n",
    "matrix = []\n",
    "\n",
    "for _ in range(N):\n",
    "    data = list(map(int, input().split()))\n",
    "    matrix.append(data)\n",
    "\n",
    "matrix = [element for row in matrix for element in row]\n",
    "matrix = sorted(matrix, reverse=True)\n",
    "matrix[N-1]"
   ]
  },
  {
   "cell_type": "markdown",
   "metadata": {},
   "source": [
    "-> 문제 그대로 배열을 만들어 전체 정렬 후 값 출력하려다 보니 답은 맞지만 메모리 부족으로 실패"
   ]
  },
  {
   "cell_type": "code",
   "execution_count": 19,
   "metadata": {},
   "outputs": [
    {
     "data": {
      "text/plain": [
       "35"
      ]
     },
     "execution_count": 19,
     "metadata": {},
     "output_type": "execute_result"
    }
   ],
   "source": [
    "# import sys\n",
    "import heapq\n",
    "\n",
    "# input = sys.stdin.readline\n",
    "N = int(input())\n",
    "data = list(map(int, input().split()))\n",
    "\n",
    "for _ in range(N-1):\n",
    "    for num in list(map(int, input().split())):\n",
    "        if data[0] < num:\n",
    "            heapq.heappop(data)\n",
    "            heapq.heappush(data, num)\n",
    "\n",
    "data[0]"
   ]
  },
  {
   "cell_type": "markdown",
   "metadata": {},
   "source": [
    "> 원리\n",
    "- 최소 힙은 내부 원소들이 오름차순으로 정렬된다는 점을 이용\n",
    "- 첫 번째 리스트를 기준으로 삼고 이후에 들어오는 리스트의 원소들과 첫 리스트(힙)의 최솟값을 비교\n",
    "- 원소가 더 클 경우에 힙을 갱신하여 최종적으로 들어온 리스트 전체에서 가장 큰 값이 최소 힙 원리에 의해 작은 순으로 정렬됨\n",
    "- 정렬된 힙의 가장 앞에 있는 원소가 전체에서 N번째로 큰 원소가 됨"
   ]
  },
  {
   "cell_type": "markdown",
   "metadata": {},
   "source": [
    "- 힙 사용할 생각을 못해서 메모리 부족 이후에 해결점을 찾지 못함\n",
    "- 정답 코드와 같이 메모리를 감안해서 효율적인 코드를 작성하려 노력해야 될 것 같음"
   ]
  }
 ],
 "metadata": {
  "kernelspec": {
   "display_name": "Python 3.8.9 64-bit",
   "language": "python",
   "name": "python3"
  },
  "language_info": {
   "codemirror_mode": {
    "name": "ipython",
    "version": 3
   },
   "file_extension": ".py",
   "mimetype": "text/x-python",
   "name": "python",
   "nbconvert_exporter": "python",
   "pygments_lexer": "ipython3",
   "version": "3.8.9"
  },
  "orig_nbformat": 4,
  "vscode": {
   "interpreter": {
    "hash": "31f2aee4e71d21fbe5cf8b01ff0e069b9275f58929596ceb00d14d90e3e16cd6"
   }
  }
 },
 "nbformat": 4,
 "nbformat_minor": 2
}
