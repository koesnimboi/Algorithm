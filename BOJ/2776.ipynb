{
 "cells": [
  {
   "cell_type": "code",
   "execution_count": 4,
   "metadata": {},
   "outputs": [
    {
     "name": "stdout",
     "output_type": "stream",
     "text": [
      "1\n",
      "1\n",
      "0\n",
      "0\n",
      "1\n"
     ]
    }
   ],
   "source": [
    "## 시간초과 ##\n",
    "\n",
    "# import sys\n",
    "\n",
    "# input = sys.stdin.readline\n",
    "\n",
    "T = int(input())\n",
    "\n",
    "for _ in range(T):\n",
    "    Note1_len = int(input())\n",
    "    Note1 = list(map(int, input().split()))\n",
    "\n",
    "    Note2_len = int(input())\n",
    "    Note2 = list(map(int, input().split()))\n",
    "\n",
    "    for idx in range(len(Note2)):\n",
    "        if Note2[idx] in Note1:\n",
    "            print(1)\n",
    "        else:\n",
    "            print(0)\n"
   ]
  },
  {
   "cell_type": "code",
   "execution_count": 5,
   "metadata": {},
   "outputs": [
    {
     "name": "stdout",
     "output_type": "stream",
     "text": [
      "1\n",
      "1\n",
      "0\n",
      "0\n",
      "1\n"
     ]
    }
   ],
   "source": [
    "# Note1 = list(map(int, input().split())) -> Note1 = set(map(int, input().split()))\n",
    "\n",
    "import sys\n",
    "\n",
    "input = sys.stdin.readline\n",
    "\n",
    "T = int(input())\n",
    "\n",
    "for _ in range(T):\n",
    "    Note1_len = int(input())\n",
    "    Note1 = set(map(int, input().split()))\n",
    "\n",
    "    Note2_len = int(input())\n",
    "    Note2 = list(map(int, input().split()))\n",
    "\n",
    "    for num in Note2:\n",
    "        if num in Note1:\n",
    "            print(1)\n",
    "        else:\n",
    "            print(0)"
   ]
  },
  {
   "cell_type": "markdown",
   "metadata": {},
   "source": [
    "> 후기\n",
    "\n",
    "- 수첩1에 있는 숫자를 set으로 입력받아야 시간 초과가 나지 않음\n",
    "\n",
    "    -> 같은 숫자를 여러 번 봐도 하나만 적혀있으면 된다는 원리"
   ]
  }
 ],
 "metadata": {
  "kernelspec": {
   "display_name": "Python 3.9.6 64-bit",
   "language": "python",
   "name": "python3"
  },
  "language_info": {
   "codemirror_mode": {
    "name": "ipython",
    "version": 3
   },
   "file_extension": ".py",
   "mimetype": "text/x-python",
   "name": "python",
   "nbconvert_exporter": "python",
   "pygments_lexer": "ipython3",
   "version": "3.9.6"
  },
  "orig_nbformat": 4,
  "vscode": {
   "interpreter": {
    "hash": "31f2aee4e71d21fbe5cf8b01ff0e069b9275f58929596ceb00d14d90e3e16cd6"
   }
  }
 },
 "nbformat": 4,
 "nbformat_minor": 2
}
