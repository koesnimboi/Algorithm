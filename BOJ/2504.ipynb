{
 "cells": [
  {
   "cell_type": "code",
   "execution_count": 1,
   "metadata": {},
   "outputs": [
    {
     "name": "stdout",
     "output_type": "stream",
     "text": [
      "28\n"
     ]
    }
   ],
   "source": [
    "GH_input = list(input())\n",
    "GH = []\n",
    "score = 0\n",
    "tmp = 1\n",
    "\n",
    "for i in range(len(GH_input)):\n",
    "    if GH_input[i] == '(':\n",
    "        GH.append(GH_input[i])\n",
    "        tmp *= 2\n",
    "        \n",
    "    elif GH_input[i] =='[':\n",
    "        GH.append(GH_input[i])\n",
    "        tmp *= 3\n",
    "            \n",
    "    elif GH_input[i] ==')':\n",
    "        if not GH or GH[-1] == '[':\n",
    "            score = 0\n",
    "            break\n",
    "        if GH_input[i-1] =='(':\n",
    "            score += tmp   \n",
    "        GH.pop()\n",
    "        tmp //= 2\n",
    "    \n",
    "    else:\n",
    "        if not GH or GH[-1] =='(':\n",
    "            score = 0\n",
    "            break\n",
    "        if GH_input[i-1] == '[':\n",
    "            score += tmp       \n",
    "        GH.pop()\n",
    "        tmp //= 3\n",
    "        \n",
    "if GH:\n",
    "    print(0)\n",
    "else:\n",
    "    print(score)"
   ]
  }
 ],
 "metadata": {
  "kernelspec": {
   "display_name": "Python 3.9.6 64-bit",
   "language": "python",
   "name": "python3"
  },
  "language_info": {
   "codemirror_mode": {
    "name": "ipython",
    "version": 3
   },
   "file_extension": ".py",
   "mimetype": "text/x-python",
   "name": "python",
   "nbconvert_exporter": "python",
   "pygments_lexer": "ipython3",
   "version": "3.9.6"
  },
  "orig_nbformat": 4,
  "vscode": {
   "interpreter": {
    "hash": "31f2aee4e71d21fbe5cf8b01ff0e069b9275f58929596ceb00d14d90e3e16cd6"
   }
  }
 },
 "nbformat": 4,
 "nbformat_minor": 2
}
