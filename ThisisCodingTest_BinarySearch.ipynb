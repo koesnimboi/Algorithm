{
 "cells": [
  {
   "cell_type": "markdown",
   "id": "2114b3ba",
   "metadata": {},
   "source": [
    "### 이진 탐색 알고리즘\n",
    "\n",
    "- 순차 탐색 : 리스트 안에 있는 특정한 데이터를 찾기 위해 앞에서부터 데이터를 하나씩 확인하는 방법\n",
    "\n",
    "\n",
    "- 이진 탐색 : ' 정렬되어 있는 리스트 ' 에서 탐색 범위를 절반씩 좁혀가며 데이터를 탐색하는 방법 / 시작점, 끝점, 중간점을 이용하여 탐색 범위를 설정"
   ]
  },
  {
   "cell_type": "markdown",
   "id": "a8eb63d6",
   "metadata": {},
   "source": [
    "#### 이진 탐색의 시간 복잡도\n",
    "\n",
    ": 연산 횟수는 log2N에 비례\n",
    "\n",
    ": 탐색 범위를 절반씩 줄이며, 시간 복잡도는 O(logN)을 보장"
   ]
  },
  {
   "cell_type": "code",
   "execution_count": 3,
   "id": "2bc7ad24",
   "metadata": {},
   "outputs": [
    {
     "name": "stdout",
     "output_type": "stream",
     "text": [
      "10 7\n",
      "1 3 5 7 9 11 13 15 17 19\n",
      "4\n"
     ]
    }
   ],
   "source": [
    "# 재귀적 구현\n",
    "## 이진 탐색을 이용해 array속 target의 index 찾기\n",
    "\n",
    "def binary_search(array, target, start, end):\n",
    "    if start > end:\n",
    "        return None\n",
    "    \n",
    "    mid = (start + end) // 2\n",
    "    \n",
    "    if array[mid] == target:\n",
    "        return mid\n",
    "    \n",
    "    # 중간점의 값보다 찾고자 하는 값이 작은 경우 왼쪽 확인\n",
    "    elif array[mid] > target:\n",
    "        return binary_search(array, target, start, mid-1)\n",
    "    # 중간점의 값보다 찾고자 하는 값이 큰 경우 오른쪽 확인\n",
    "    else:\n",
    "        return binary_search(array, target, mid+1, end)\n",
    "    \n",
    "# n : 원소의 개수, target : 찾고자 하는 값\n",
    "n, target = map(int, input().split())\n",
    "array = list(map(int, input().split()))\n",
    "\n",
    "result = binary_search(array, target, 0, n-1)\n",
    "\n",
    "if result == None:\n",
    "    print('원소가 존재하지 않습니다.')\n",
    "else:\n",
    "    print(result+1)"
   ]
  },
  {
   "cell_type": "code",
   "execution_count": 4,
   "id": "59edd521",
   "metadata": {
    "ExecuteTime": {
     "end_time": "2022-02-21T04:55:12.199958Z",
     "start_time": "2022-02-21T04:54:47.404773Z"
    }
   },
   "outputs": [
    {
     "name": "stdout",
     "output_type": "stream",
     "text": [
      "10 7\n",
      "1 4 5 6 7 10 13 15 17 19\n",
      "5\n"
     ]
    }
   ],
   "source": [
    "# 재귀적 구현(re)\n",
    "\n",
    "def binary_search(array, target, start, end):\n",
    "    if start > end:\n",
    "        return None\n",
    "\n",
    "    mid = (start + end) //2\n",
    "    \n",
    "    if array[mid] == target:\n",
    "        return mid\n",
    "    \n",
    "    elif array[mid] > target: # 타겟값이 중간값 보다 작아서 왼쪽 부분을 탐색해야하는 경우\n",
    "        return binary_search(array, target, start, mid-1)\n",
    "    \n",
    "    else: # 타겟값이 중간값보다 커서 오른쪽 부분을 탐색해야하는 경우\n",
    "        return binary_search(array, target, mid+1, end)\n",
    "      \n",
    "n, target = map(int, input().split())\n",
    "array = list(map(int, input().split()))\n",
    "\n",
    "result = binary_search(array, target, 0, n-1)\n",
    "\n",
    "if result == None:\n",
    "    print('원소가 존재하지 않습니다')\n",
    "else:\n",
    "    print(result+1)"
   ]
  },
  {
   "cell_type": "code",
   "execution_count": 4,
   "id": "61078163",
   "metadata": {},
   "outputs": [
    {
     "name": "stdout",
     "output_type": "stream",
     "text": [
      "10 7\n",
      "1 3 5 7 9 11 13 15 17 19\n",
      "4\n"
     ]
    }
   ],
   "source": [
    "# 반복적 구현\n",
    "\n",
    "def binary_search(array, target, start, end):\n",
    "    while start <= end:\n",
    "        mid = (start + end) //2\n",
    "        \n",
    "        if array[mid] == target:\n",
    "            return mid\n",
    "        \n",
    "        # 중간점의 값보다 찾고자 하는 값이 작은 경우 왼쪽 확인\n",
    "        elif array[mid] > target:\n",
    "            end = mid - 1\n",
    "            \n",
    "        # 중간점의 값보다 찾고자 하는 값이 큰 경우 오른쪽 확인\n",
    "        else:\n",
    "            start = mid +1\n",
    "    \n",
    "    return None\n",
    "\n",
    "n, target = list(map(int, input().split()))\n",
    "array = list(map(int, input().split()))\n",
    "\n",
    "result = binary_search(array, target, 0, n-1)\n",
    "if result == None:\n",
    "    print('원소가 존재하지 않습니다.')\n",
    "    \n",
    "else:\n",
    "    print(result +1)"
   ]
  },
  {
   "cell_type": "code",
   "execution_count": 7,
   "id": "86ce29b9",
   "metadata": {
    "ExecuteTime": {
     "end_time": "2022-02-21T05:01:28.550759Z",
     "start_time": "2022-02-21T05:01:03.558077Z"
    }
   },
   "outputs": [
    {
     "name": "stdout",
     "output_type": "stream",
     "text": [
      "10 7\n",
      "1 3 5 7 9 11 13 15 17 19\n",
      "4\n"
     ]
    }
   ],
   "source": [
    "# 반복적 구현(re)\n",
    "\n",
    "def binary_search(array, target, start, end):\n",
    "    while start <= end:\n",
    "        mid = (start + end) //2\n",
    "        \n",
    "        if array[mid] == target:\n",
    "            return mid\n",
    "        \n",
    "        elif array[mid] > target:\n",
    "            end = mid -1\n",
    "        \n",
    "        elif array[mid] < target:\n",
    "            start = mid +1\n",
    "            \n",
    "    return None\n",
    "\n",
    "n, target = map(int, input().split())\n",
    "array = list(map(int, input().split()))\n",
    "\n",
    "result = binary_search(array, target, 0, n-1)\n",
    "\n",
    "if result == None:\n",
    "    print('원소가 존재하지 않습니다.')\n",
    "    \n",
    "else:\n",
    "    print(result+1)"
   ]
  },
  {
   "cell_type": "markdown",
   "id": "b16cc55c",
   "metadata": {},
   "source": [
    "#### 파이썬 이진 탐색 라이브러리\n",
    "\n",
    "- bisect_left(a, x) : 정렬된 순서를 유지하면서 배열 a에 x를 삽입할 가장 왼쪽 인덱스를 반환\n",
    "\n",
    "- bisect_right(a, x) : 정렬된 순서를 유지하면서 배열 a에 x를 삽입할 가장 오른쪽 인덱스를 반환"
   ]
  },
  {
   "cell_type": "code",
   "execution_count": 5,
   "id": "677935eb",
   "metadata": {},
   "outputs": [
    {
     "name": "stdout",
     "output_type": "stream",
     "text": [
      "2\n",
      "4\n"
     ]
    }
   ],
   "source": [
    "from bisect import bisect_left, bisect_right\n",
    "\n",
    "a = [1, 2, 4, 4, 8]\n",
    "x = 4\n",
    "print(bisect_left(a, x))\n",
    "print(bisect_right(a, x))"
   ]
  },
  {
   "cell_type": "code",
   "execution_count": 6,
   "id": "409ee508",
   "metadata": {},
   "outputs": [
    {
     "name": "stdout",
     "output_type": "stream",
     "text": [
      "2\n",
      "6\n"
     ]
    }
   ],
   "source": [
    "# 값이 특정 범위에 속하는 데이터 개수 구하기\n",
    "\n",
    "def count_by_range(a, left_value, right_value): # 값이 [left_value, right_value]인 데이터의 개수를 반환하는 함수\n",
    "    right_index = bisect_right(a, right_value)\n",
    "    left_index = bisect_left(a, left_value)\n",
    "    return right_index - left_index\n",
    "\n",
    "a = [1, 2, 3, 3, 3, 3, 4, 4, 8, 9]\n",
    "\n",
    "# 값이 4인 데이터 개수 출력\n",
    "print(count_by_range(a, 4, 4))\n",
    "\n",
    "# 값이 [-1, 3] 범위에 있는 데이터 개수 출력\n",
    "print(count_by_range(a, -1, 3))"
   ]
  },
  {
   "cell_type": "code",
   "execution_count": 9,
   "id": "30da6a9e",
   "metadata": {
    "ExecuteTime": {
     "end_time": "2022-02-21T05:06:25.438192Z",
     "start_time": "2022-02-21T05:06:25.432429Z"
    }
   },
   "outputs": [
    {
     "name": "stdout",
     "output_type": "stream",
     "text": [
      "2\n",
      "6\n"
     ]
    }
   ],
   "source": [
    "# 값이 특정 범위에 속하는 데이터 개수 구하기(re)\n",
    "\n",
    "from bisect import bisect_left, bisect_right\n",
    "\n",
    "def count_by_range(a, left_value, right_value):\n",
    "    right_index = bisect_right(a, right_value)\n",
    "    left_index = bisect_left(a, left_value)\n",
    "    return right_index - left_index\n",
    "\n",
    "a = [1, 2, 3, 3, 3, 3, 4, 4, 8, 9]\n",
    "\n",
    "print(count_by_range(a, 4, 4))\n",
    "print(count_by_range(a, -1, 3))"
   ]
  },
  {
   "cell_type": "markdown",
   "id": "bab5bb77",
   "metadata": {},
   "source": [
    "#### 파라메트릭 서치(Parametric Search)\n",
    "\n",
    ": 최적화 문제를 결정 문제('예' 혹은 '아니오')로 바꾸어 해결하는 기법\n",
    "\n",
    "      ex) 특정한 조건을 만족하는 가장 알맞은 값을 빠르게 찾는 최적화 문제\n",
    "      \n",
    ": 일반적으로 코딩 테스트에서 파라메트릭 서치는 이진탐색을 이용하여 해결 가능"
   ]
  },
  {
   "cell_type": "code",
   "execution_count": 7,
   "id": "6ff9374a",
   "metadata": {},
   "outputs": [
    {
     "name": "stdout",
     "output_type": "stream",
     "text": [
      "4 6\n",
      "19 15 10 17\n",
      "15\n"
     ]
    }
   ],
   "source": [
    "# solution\n",
    "# 적절한 높이를 찾을 때까지 이진 탐색을 수행하여 높이 H를 반복해서 조정\n",
    "# '현재 이 높이로 자르면 조건을 만족할 수 있는가?'를 확인한 뒤에 조건의 만족 여부('예', '아니오')에 따라 탐색 범위를 좁혀서 해결\n",
    "# 절단기의 높이는 0부터 10억까지의 정수 -> 이렇게 큰 탐색 범위를 보면 가장 먼저 이진 탐색을 떠올려야 함\n",
    "\n",
    "\n",
    "n, m = map(int, input().split()) # n : 떡의 갯수, m: 요청한 떡의 길이\n",
    "\n",
    "array = list(map(int, input().split()))\n",
    "\n",
    "# 이진 탐색을 위한 시작점과 끝점 설정\n",
    "start = 0\n",
    "end = max(array)\n",
    "\n",
    "# 이진 탐색 수행\n",
    "result = 0\n",
    "while start <= end:\n",
    "    total = 0\n",
    "    mid = (start + end) //2\n",
    "    \n",
    "    for x in array:\n",
    "        # 잘랐을 때의 떡의 양 계산\n",
    "        if x > mid:\n",
    "            total += x-mid\n",
    "    \n",
    "    # 떡의 양이 부족한 경우 더 많이 자르기 (왼쪽 부분 탐색)\n",
    "    if total < m:\n",
    "        end = mid-1\n",
    "    \n",
    "    # 떡의 양이 충분한 경우 덜 자르기 (오른쪽 부분 탐색)\n",
    "    else:\n",
    "        result = mid # 최대한 덜 잘랐을 때가 정답이므로, 여기에서 result에 기록\n",
    "        start = mid +1\n",
    "\n",
    "print(result)"
   ]
  },
  {
   "cell_type": "code",
   "execution_count": null,
   "id": "1c2027f7",
   "metadata": {},
   "outputs": [],
   "source": [
    "# solution(re)\n",
    "\n",
    "n, m = map(int, input().split())\n",
    "\n",
    "array = list(map(int, input().split()))\n",
    "\n",
    "# 이진 탐색을 위한 시작값, 끝값 설정\n",
    "start = 0\n",
    "end = max(array)\n",
    "\n",
    "while start <= end:\n",
    "    total = 0\n",
    "    mid = (start + end) // 2 # 중간값 설정\n",
    "    \n",
    "    for x in array:\n",
    "        if x > mid:\n",
    "            total += (x-mid)\n",
    "            \n",
    "    if total < m: # 떡의 양이 부족할 때 더 많이 자르기 = 왼쪽 부분 탐색 \n",
    "        end = mid - 1\n",
    "    \n",
    "    else: # 떡의 양이 충분한 경우 덜 자르기 = 오른쪽 부분 탐색\n",
    "        result = mid # 최대한 덜 잘랐을 때가 정답이므로 result에 기록\n",
    "        start = mid +1\n",
    "        \n",
    "print(result)"
   ]
  },
  {
   "cell_type": "code",
   "execution_count": 12,
   "id": "78d618ee",
   "metadata": {},
   "outputs": [
    {
     "name": "stdout",
     "output_type": "stream",
     "text": [
      "7 2\n",
      "1 1 2 2 2 2 3\n",
      "4\n"
     ]
    }
   ],
   "source": [
    "from bisect import bisect_left, bisect_right\n",
    "\n",
    "n, x = map(int, input().split())\n",
    "\n",
    "array = sorted(list(map(int, input().split())))\n",
    "\n",
    "right_index = bisect_right(array, x)\n",
    "left_index = bisect_left(array, x)\n",
    "\n",
    "cnt = right_index - left_index\n",
    "\n",
    "if cnt == 0:\n",
    "    print(-1)\n",
    "else:\n",
    "    print(cnt)"
   ]
  },
  {
   "cell_type": "code",
   "execution_count": 13,
   "id": "e8b9e9d4",
   "metadata": {},
   "outputs": [
    {
     "name": "stdout",
     "output_type": "stream",
     "text": [
      "7 2\n",
      "1 1 2 2 2 2 3\n",
      "4\n"
     ]
    }
   ],
   "source": [
    "# soltuion\n",
    "# 시간 복잡도 O(logN)을 요구하는 문제\n",
    "# 일반적인 선형 탐색으로는 시간 초과 판정\n",
    "# 데이터가 정렬되어 있기 때문에 이진 탐색 수행 가능\n",
    "# 특정값이 등장하는 첫 번째 위치와 마지막 위치를 찾아 위치 차이를 계산하여 문제 해결\n",
    "\n",
    "from bisect import bisect_left, bisect_right\n",
    "\n",
    "def count_by_range(array, left_value, right_value): # 빈출\n",
    "    right_index = bisect_right(array, right_value)\n",
    "    left_index = bisect_left(array, left_value)\n",
    "    return right_index - left_index\n",
    "\n",
    "n, x = map(int, input().split())\n",
    "\n",
    "array = sorted(list(map(int, input().split())))\n",
    "\n",
    "count = count_by_range(array, x, x)\n",
    "\n",
    "if count == 0:\n",
    "    print(-1)\n",
    "else:\n",
    "    print(count)"
   ]
  },
  {
   "cell_type": "code",
   "execution_count": 10,
   "id": "6ef01bfb",
   "metadata": {
    "ExecuteTime": {
     "end_time": "2022-02-21T05:22:15.478782Z",
     "start_time": "2022-02-21T05:22:10.020042Z"
    }
   },
   "outputs": [
    {
     "name": "stdout",
     "output_type": "stream",
     "text": [
      "7 2\n",
      "1 1 2 2 2 2 3\n",
      "4\n"
     ]
    }
   ],
   "source": [
    "# solution(re)\n",
    "# O(logN) 알고리즘으로 설계하지 않으면 시간 초과 판정 -> 일반적인 정렬 알고리즘 or 표준 정렬 알고리즘으로 설계 시 시간 초과 => 이진 탐색 이용\n",
    "\n",
    "from bisect import bisect_left, bisect_right\n",
    "\n",
    "n, x = map(int, input().split())\n",
    "array = sorted(list(map(int, input().split())))\n",
    "\n",
    "tmp = 0\n",
    "\n",
    "left_idx = bisect_left(array, x)\n",
    "right_idx = bisect_right(array, x)\n",
    "\n",
    "tmp = right_idx - left_idx\n",
    "\n",
    "if tmp == 0:\n",
    "    print(-1)\n",
    "else:\n",
    "    print(tmp)"
   ]
  }
 ],
 "metadata": {
  "kernelspec": {
   "display_name": "Python 3 (ipykernel)",
   "language": "python",
   "name": "python3"
  },
  "language_info": {
   "codemirror_mode": {
    "name": "ipython",
    "version": 3
   },
   "file_extension": ".py",
   "mimetype": "text/x-python",
   "name": "python",
   "nbconvert_exporter": "python",
   "pygments_lexer": "ipython3",
   "version": "3.8.12"
  },
  "toc": {
   "base_numbering": 1,
   "nav_menu": {},
   "number_sections": true,
   "sideBar": true,
   "skip_h1_title": false,
   "title_cell": "Table of Contents",
   "title_sidebar": "Contents",
   "toc_cell": false,
   "toc_position": {},
   "toc_section_display": true,
   "toc_window_display": false
  }
 },
 "nbformat": 4,
 "nbformat_minor": 5
}
