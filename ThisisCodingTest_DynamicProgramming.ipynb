{
 "cells": [
  {
   "cell_type": "markdown",
   "id": "ce596574",
   "metadata": {},
   "source": [
    "### 다이나믹 프로그래밍\n",
    "\n",
    ": 메모리를 적절히 사용하여 수행 시간 효율성을 비약적으로 향상시키는 방법\n",
    "\n",
    ": 이미 계산된 결과(작은 문제)는 별도의 메모리 영역에 저장하여 다시 계산하지 않도록 함\n",
    "\n",
    ": 다이나믹 프로그래밍의 구현은 일반적으로 두 가지 방식(탑다운(하향식), 바텀업(상향식))으로 구성됨\n",
    "\n",
    ": 동적 계획법이라고도 부름"
   ]
  },
  {
   "cell_type": "markdown",
   "id": "caff2df7",
   "metadata": {},
   "source": [
    "#### 다이나믹 프로그래밍의 조건\n",
    "\n",
    "1. 최적 부분 구조 (Optimal Substructure)\n",
    "- 큰 문제를 작은 문제로 나눌 수 있으며, 작은 문제의 답을 모아서 큰 문제를 해결 가능\n",
    "\n",
    "2. 중복되는 부분 문제 (Overlapping Subproblem)\n",
    "- 동일한 작은 문제를 반복적으로 해결해야 함"
   ]
  },
  {
   "cell_type": "code",
   "execution_count": 1,
   "id": "6b811131",
   "metadata": {
    "ExecuteTime": {
     "end_time": "2022-02-15T06:34:35.085489Z",
     "start_time": "2022-02-15T06:34:35.064577Z"
    }
   },
   "outputs": [
    {
     "name": "stdout",
     "output_type": "stream",
     "text": [
      "3\n"
     ]
    }
   ],
   "source": [
    "# 피보나치 수열\n",
    "# 점화식 : 인접 항들 사이의 관계식\n",
    "# 단순 재귀 소스 코드 -> 단순 재귀 함수로 피보나치 수열을 해결하면 지수 시간 복잡도(O(2^N))를 가짐\n",
    "\n",
    "def fibo(x):\n",
    "    if x ==1 or x ==2:\n",
    "        return 1\n",
    "    return fibo(x-1) + fibo(x-2)\n",
    "\n",
    "print(fibo(4))"
   ]
  },
  {
   "cell_type": "code",
   "execution_count": 1,
   "id": "6e205cc5",
   "metadata": {
    "ExecuteTime": {
     "end_time": "2022-02-23T05:20:50.245695Z",
     "start_time": "2022-02-23T05:20:50.225692Z"
    }
   },
   "outputs": [
    {
     "name": "stdout",
     "output_type": "stream",
     "text": [
      "5\n"
     ]
    }
   ],
   "source": [
    "# 피보나치 수열(re)\n",
    "# = 1, 1, 2, 3, 5, 7, ...... [점화식] a_n = a_n-1 + a_n-2 \n",
    "# 단순 재귀 방식으로 구현해보자 (-> 지수 시간 복잡도O(2^N)를 지님)\n",
    "\n",
    "def fibo(x):\n",
    "    if x ==1 or x ==2:\n",
    "        return 1\n",
    "    return fibo(x-1) + fibo(x-2)\n",
    "\n",
    "print(fibo(5))"
   ]
  },
  {
   "cell_type": "markdown",
   "id": "69f79364",
   "metadata": {},
   "source": [
    "#### 메모이제이션(Memoization)\n",
    "\n",
    "- 메모이제이션은 다이나믹 프로그래밍(탑다운)을 구현하는 방법 중 하나\n",
    "\n",
    "- 한 번 계산한 결과를 메모리 공간에 메모하는 기법\n",
    "    - 같은 문제를 다시 호출하면 메모했던 결과를 그대로 가져옴\n",
    "    - 값을 기록해 놓는다는 점에서 캐싱(Caching)이라고도 함"
   ]
  },
  {
   "cell_type": "markdown",
   "id": "0787a921",
   "metadata": {},
   "source": [
    "#### 탑다운 vs 바텀업\n",
    "\n",
    "- 탑다운(메모이제이션) 방식은 하향식이라고도 하며 바텀업 방식은 상향식 이라고도 함\n",
    "- 다이나믹 프로그래밍의 전형적인 형태는 바텀업 방식\n",
    "    - 결과 저장용 리스트는 DP 테이블이라고 부름\n",
    "    \n",
    "- 엄밀히 말하면 메모이제이션은 이전에 계산된 결과를 일시적으로 기록해 놓는 넓은 개념을 의미\n",
    "    - 따라서 메모이제이션은 다이나믹 프로그래밍에 국한된 개념은 아님\n",
    "    - 한 번 계산된 결과를 담아 놓기만 하고 다이나믹 프로그래밍을 위해 활용하지 않을 수도 있음"
   ]
  },
  {
   "cell_type": "code",
   "execution_count": 4,
   "id": "6bff3e8c",
   "metadata": {
    "ExecuteTime": {
     "end_time": "2022-02-21T05:56:52.546918Z",
     "start_time": "2022-02-21T05:56:52.542036Z"
    }
   },
   "outputs": [
    {
     "name": "stdout",
     "output_type": "stream",
     "text": [
      "218922995834555169026\n"
     ]
    }
   ],
   "source": [
    "# 피보나치 수열\n",
    "# 탑다운(메모이제이션) 다이나믹 프로그래밍 소스 코드\n",
    "\n",
    "d = [0] * 100\n",
    "\n",
    "def fibo(x):\n",
    "    if x == 1 or x == 2:\n",
    "        return 1\n",
    "    \n",
    "    if d[x] != 0:\n",
    "        return d[x]\n",
    "    \n",
    "    d[x] = fibo(x-1) + fibo(x-2)\n",
    "    return d[x]\n",
    "\n",
    "print(fibo(99))"
   ]
  },
  {
   "cell_type": "code",
   "execution_count": 2,
   "id": "d1272f16",
   "metadata": {
    "ExecuteTime": {
     "end_time": "2022-02-23T05:54:26.816801Z",
     "start_time": "2022-02-23T05:54:26.810414Z"
    }
   },
   "outputs": [
    {
     "data": {
      "text/plain": [
       "55"
      ]
     },
     "execution_count": 2,
     "metadata": {},
     "output_type": "execute_result"
    }
   ],
   "source": [
    "# 피보나치 수열(re)\n",
    "# 탑다운(메모이제이션) 다이나믹 프로그래밍 소스 코드 -> 상수 시간 복잡도 O(N)를 가짐\n",
    "\n",
    "#    def origin_fibo(x):\n",
    "#        if x == 1 or x == 2:\n",
    "#            return 1\n",
    "#        return origin_fibo(x-1) + origin_fibo(x-2)\n",
    "\n",
    "#    origin_fibo(10)\n",
    "\n",
    "d = [0] * 100\n",
    "\n",
    "def Top_down_fibo(x):\n",
    "    if x == 1 or x == 2:\n",
    "        return 1\n",
    "    \n",
    "    if d[x] != 0:\n",
    "        return d[x]\n",
    "    \n",
    "    d[x] = Top_down_fibo(x-1) + Top_down_fibo(x-2)\n",
    "    \n",
    "    return d[x]\n",
    "\n",
    "Top_down_fibo(10)"
   ]
  },
  {
   "cell_type": "code",
   "execution_count": 2,
   "id": "45988472",
   "metadata": {
    "ExecuteTime": {
     "end_time": "2022-02-21T05:56:27.961310Z",
     "start_time": "2022-02-21T05:56:27.936492Z"
    }
   },
   "outputs": [
    {
     "name": "stdout",
     "output_type": "stream",
     "text": [
      "f(6) f(5) f(4) f(3) f(2) f(1) f(2) f(3) f(4) "
     ]
    },
    {
     "data": {
      "text/plain": [
       "8"
      ]
     },
     "execution_count": 2,
     "metadata": {},
     "output_type": "execute_result"
    }
   ],
   "source": [
    "# 피보나치 수열\n",
    "# 메모이제이션 동작 분석\n",
    "# 메모이제이션을 이용하는 경우 피보나치 수열 함수의 시간 복잡도는 O(N)\n",
    "\n",
    "d = [0] * 100\n",
    "\n",
    "def fibo(x):\n",
    "    print(f'f({str(x)})', end=' ')\n",
    "    if x == 1 or x == 2:\n",
    "        return 1\n",
    "    \n",
    "    if d[x] != 0:\n",
    "        return d[x]\n",
    "    \n",
    "    d[x] = fibo(x-1) + fibo(x-2)\n",
    "    return d[x]\n",
    "\n",
    "fibo(6)"
   ]
  },
  {
   "cell_type": "code",
   "execution_count": 2,
   "id": "5c64c4d9",
   "metadata": {
    "ExecuteTime": {
     "end_time": "2022-02-21T05:49:52.965391Z",
     "start_time": "2022-02-21T05:49:52.960518Z"
    }
   },
   "outputs": [
    {
     "name": "stdout",
     "output_type": "stream",
     "text": [
      "218922995834555169026\n"
     ]
    }
   ],
   "source": [
    "# 피보나치 수열\n",
    "# 바텀업 다이나믹 프로그래밍 소스코드\n",
    "\n",
    "d = [0] * 100\n",
    "\n",
    "d[1] = 1\n",
    "d[2] = 1\n",
    "n = 99\n",
    "\n",
    "for i in range(3, n+1):\n",
    "    d[i] = d[i-1] + d[i-2]\n",
    "    \n",
    "print(d[n])"
   ]
  },
  {
   "cell_type": "code",
   "execution_count": 3,
   "id": "36042915",
   "metadata": {
    "ExecuteTime": {
     "end_time": "2022-02-23T06:03:04.134552Z",
     "start_time": "2022-02-23T06:03:04.129825Z"
    }
   },
   "outputs": [
    {
     "name": "stdout",
     "output_type": "stream",
     "text": [
      "218922995834555169026\n"
     ]
    }
   ],
   "source": [
    "# 피보나치 수열(re)\n",
    "# 바텀업 다이나믹 프로그래밍 코드\n",
    "\n",
    "d = [0] * 100\n",
    "d[1] = 1\n",
    "d[2] = 1\n",
    "n = 99\n",
    "\n",
    "for i in range(3, n+1):\n",
    "    d[i] = d[i-1] + d[i-2]\n",
    "    \n",
    "print(d[n])"
   ]
  },
  {
   "cell_type": "markdown",
   "id": "eb91ccee",
   "metadata": {},
   "source": [
    "#### 다이나믹 프로그래밍 VS 분할 정복(퀵 정렬...)\n",
    "\n",
    "- 다이나믹 프로그래밍과 분할 정복은 모두 최적 부분 구조를 가질 때 사용 가능\n",
    "    - 큰 문제를 작은 문제로 나눌 수 있으며 작은 문제의 답을 모아서 큰 문제를 해결할 수 있는 상황\n",
    "- 다이나믹 프로그래밍과 분할 정복의 차이점은 부분 문제의 중복\n",
    "    - 다이나믹 프로그래밍 문제에서는 각 부분 문제들이 서로 영향을 미치며 부분 문제가 중복됨\n",
    "    - 분할 정복 문제에서는 동일한 부분 문제가 반복적으로 계산되지 않음"
   ]
  },
  {
   "cell_type": "markdown",
   "id": "cb4b03fa",
   "metadata": {},
   "source": [
    "-> 다이나믹 프로그래밍 : 큰 문제를 작은 문제로 나눌 수 있으며, 작은 문제의 답을 모아서 큰 문제를 해결할 수 있음. 각 부분 문제들이 서로 영향, 중복\n",
    "\n",
    "-> 분할 정복(ex. 퀵정렬) : 큰 문제를 작은 문제로 나눌 수 있으며, 동일한 부분 문제가 반복되지 않음"
   ]
  },
  {
   "cell_type": "markdown",
   "id": "80d2f8e6",
   "metadata": {},
   "source": [
    "#### 다이나믹  프로그래밍 문제에 접근하는 방법\n",
    "- 주어진 문제가 다이나믹 프로그래밍 유형임을 파악하는 것이 중요함\n",
    "- 가장 먼저 그리디, 구현, 완전 탐색 등의 아이디어로 문제를 해결할 수 있는지 검토\n",
    "    - 다른 알고리즘으로 풀이 방법이 떠오르지 않으면 다이나믹 프로그래밍을 고려\n",
    "- 일단 재귀 함수로 비효율적인 완전 탐색 프로그래밍을 작성한 뒤에 작은 문제에서 구한 답이 큰문제에서 그대로 사용될 수 있으면(탑다운), 코드를 개선하는 방법을 사용할 수 있음\n",
    "- 일반적인 코딩 테스트 수준에서는 기본 유형의 다이나믹 프로그래밍 문제가 출제되는 경우가 많음"
   ]
  },
  {
   "cell_type": "code",
   "execution_count": 4,
   "id": "26f91b62",
   "metadata": {
    "ExecuteTime": {
     "end_time": "2022-02-23T06:11:23.533411Z",
     "start_time": "2022-02-23T06:11:21.127171Z"
    }
   },
   "outputs": [
    {
     "name": "stdout",
     "output_type": "stream",
     "text": [
      "4\n",
      "1 3 1 5\n",
      "8\n"
     ]
    }
   ],
   "source": [
    "n = int(input())\n",
    "k = list(map(int, input().split())) # n = len(k)\n",
    "\n",
    "d = [0] * 100\n",
    "\n",
    "d[0] = k[0]\n",
    "d[1] = max(k[0], k[1])\n",
    "\n",
    "for i in range(2, n):\n",
    "    d[i] = max(d[i-1], d[i-2] + k[i])\n",
    "    \n",
    "print(d[n-1])"
   ]
  },
  {
   "cell_type": "code",
   "execution_count": 1,
   "id": "f51636b7",
   "metadata": {
    "ExecuteTime": {
     "end_time": "2022-02-21T07:24:59.088543Z",
     "start_time": "2022-02-21T07:24:50.388442Z"
    }
   },
   "outputs": [
    {
     "name": "stdout",
     "output_type": "stream",
     "text": [
      "4\n",
      "1 3 1 5\n",
      "8\n"
     ]
    }
   ],
   "source": [
    "# solution\n",
    "\n",
    "n = int(input())\n",
    "array = list(map(int, input().split()))\n",
    "\n",
    "# 앞서 계산된 결과를 저장하기 위한 DP 테이블 초기화\n",
    "d = [0] * 100\n",
    "\n",
    "# DP 진행(바텀업)\n",
    "d[0] = array[0]\n",
    "d[1] = max(array[0], array[1])\n",
    "\n",
    "for i in range(2, n):\n",
    "    d[i] = max(d[i-1], d[i-2] + array[i])\n",
    "    \n",
    "print(d[n-1])"
   ]
  },
  {
   "cell_type": "code",
   "execution_count": 7,
   "id": "3f3c9a37",
   "metadata": {
    "ExecuteTime": {
     "end_time": "2022-02-23T06:49:37.751400Z",
     "start_time": "2022-02-23T06:49:36.351212Z"
    }
   },
   "outputs": [
    {
     "name": "stdout",
     "output_type": "stream",
     "text": [
      "26\n",
      "3\n"
     ]
    }
   ],
   "source": [
    "# solution\n",
    "# 최적 부분 구조(작은 문제들을 조합해서 해결할 수 있음)와 중복되는 부분 문제(동일한 문제가 여러번 호출됨)를 만족\n",
    "\n",
    "# a_i : i를 1로 만들기 위한 최소 연산 횟수\n",
    "# [점화식] a_i = min(a_i-1, a_i/2, a_i/3, a_i/5) + 1\n",
    "# 1을 빼는 연산을 제외고는 해당 수로 나누어 떨어질 때에 한해 점화식 적용 가능\n",
    "\n",
    "x = int(input())\n",
    "\n",
    "d = [0] * 30001\n",
    "\n",
    "# DP 진행(바텀업)\n",
    "for i in range(2, x+1):\n",
    "    # 현재 수에서 1 빼는 경우\n",
    "    d[i] = d[i-1] +1\n",
    "    \n",
    "    if i % 2 == 0:\n",
    "        d[i] = min(d[i], d[i//2] +1)\n",
    "    if i % 3 == 0:\n",
    "        d[i] = min(d[i], d[i//3] +1)\n",
    "    if i %5 == 0:\n",
    "        d[i] = min(d[i], d[i//5] +1)\n",
    "\n",
    "print(d[x])"
   ]
  },
  {
   "cell_type": "code",
   "execution_count": 3,
   "id": "6ae6f3f5",
   "metadata": {
    "ExecuteTime": {
     "end_time": "2022-02-24T04:47:05.147344Z",
     "start_time": "2022-02-24T04:47:02.983846Z"
    }
   },
   "outputs": [
    {
     "name": "stdout",
     "output_type": "stream",
     "text": [
      "2 15\n",
      "2\n",
      "3\n",
      "5\n"
     ]
    }
   ],
   "source": [
    "# solution\n",
    "\n",
    "# a_i = 금액 i를 만들 수 있는 최소한의 화폐 개수\n",
    "# k = 각 화폐의 단위\n",
    "# 점화식 : 각 화폐 단위인 k를 하나씩 확인하며\n",
    "#       a_i-k를 만드는 방법이 존재하는 경우 : a_i = min(a_i, a_i-k +1)\n",
    "#       a_i-k를 만드는 방법이 존재하지 않는 경우 : a_i = INF\n",
    "\n",
    "n, m = map(int, input().split())\n",
    "array = [int(input()) for _ in range(n)]\n",
    "\n",
    "# 한 번 계산된 결과를 저장하기 위한 DP 테이블 초기화\n",
    "d = [10001] * (m+1)\n",
    "\n",
    "# DP 진행(바텀업)\n",
    "d[0] = 0\n",
    "for i in range(n):\n",
    "    for j in range(array[i], m+1):\n",
    "        if d[j-array[i]] != 10001: # (i-k)원을 만드는 방법이 존재하는 경우\n",
    "            d[j] = min(d[j], d[j-array[i]] + 1)\n",
    "            \n",
    "# 계산된 결과 출력\n",
    "if d[m] == 10001: # 최종적으로 M원을 만드는 방법이 없는 경우\n",
    "    print(-1)\n",
    "else:\n",
    "    print(d[m])"
   ]
  },
  {
   "cell_type": "code",
   "execution_count": 11,
   "id": "b8622983",
   "metadata": {
    "ExecuteTime": {
     "end_time": "2022-02-24T05:29:01.741724Z",
     "start_time": "2022-02-24T05:28:40.978465Z"
    }
   },
   "outputs": [
    {
     "name": "stdout",
     "output_type": "stream",
     "text": [
      "2\n",
      "3 4\n",
      "1 3 3 2 2 1 4 1 0 6 4 7\n",
      "19\n",
      "4 4\n",
      "1 3 1 5 2 2 4 1 5 0 2 3 0 6 1 2\n",
      "16\n"
     ]
    }
   ],
   "source": [
    "# solution\n",
    "# 금광의 모든 위치에 대햐여 1. 왼쪽 위에서 오는 경우, 2. 왼쪽 아래에서 오는 경우, 3. 왼쪽에서 오는 경우\n",
    "# array[i][j] = i행, j열에 존재하는 금의 양\n",
    "# dp[i][j] = i행 j열까지의 최적의 해 (얻을 수 있는 금의 최댓값)\n",
    "\n",
    "# 점화식 : \n",
    "#       dp[i][j] = array[i][j] + max(dp[i-1][j-1], dp[i][j-1], dp[i+1][j-1])\n",
    "# 이 때 테이블에 접근할 때마다 리스트의 범위를 벗어나지 않는지 체크해야함\n",
    "# 편의상 초기 데이터를 담는 변수 array를 사용하지 않아도 됨\n",
    "#      바로 dp 테이블에 초기 데이터를 담아서 다이나믹 프로그래밍을 적용 가능\n",
    "\n",
    "for tc in range(int(input())):\n",
    "    n, m = map(int, input().split())\n",
    "    array = list(map(int, input().split()))\n",
    "    \n",
    "    dp = []\n",
    "    index = 0\n",
    "    for _ in range(n):\n",
    "        dp.append(array[index:index+m])\n",
    "        index += m\n",
    "    \n",
    "    for j in range(1, m):\n",
    "        for i in range(n):\n",
    "            if i == 0:\n",
    "                left_up = 0\n",
    "            else:\n",
    "                left_up = dp[i-1][j-1]\n",
    "            if i == n-1:\n",
    "                left_down = 0\n",
    "            else:\n",
    "                left_down = dp[i+1][j-1]\n",
    "            \n",
    "            left = dp[i][j-1]\n",
    "            dp[i][j] = dp[i][j] + max(left_up, left_down, left)\n",
    "    \n",
    "    result = 0\n",
    "    \n",
    "    for i in range(n):\n",
    "        result = max(result, dp[i][m-1])\n",
    "        \n",
    "    print(result)"
   ]
  },
  {
   "cell_type": "code",
   "execution_count": 14,
   "id": "e089a8cf",
   "metadata": {
    "ExecuteTime": {
     "end_time": "2022-02-25T05:49:05.328410Z",
     "start_time": "2022-02-25T05:48:53.885167Z"
    }
   },
   "outputs": [
    {
     "name": "stdout",
     "output_type": "stream",
     "text": [
      "7\n",
      "15 11 4 8 5 2 4\n",
      "2\n"
     ]
    }
   ],
   "source": [
    "# solution\n",
    "# 기본 아이디어 : 가장 긴 증가하는 부분 수열(LIS, Longest Increasing Subsequence) - 전형적인 DP 문제\n",
    "#                -> ex) array = [4, 2, 5, 8, 4, 11, 15] => LIS : [4, 5, 8, 11, 15]\n",
    "\n",
    "# LIS 점화식 : D[i] = array[i]를 마지막 원소로 가지는 부분 수열의 최대 길이\n",
    "#             -> 모든 0 <= j < i에 대하여, D[i] = max(D[i], D[j] +1) if array[j] < array[i]\n",
    "\n",
    "n = int(input())\n",
    "array = list(map(int, input().split()))\n",
    "array.reverse() # 순서를 뒤집어 LIS 문제로 변환\n",
    "\n",
    "dp = [1] *n # DP를 위한 1차원 dp테이블 초기화\n",
    "\n",
    "# LIS 알고리즘 수행\n",
    "for i in range(1, n):\n",
    "    for j in range(0, i):\n",
    "        if array[j] < array[i]:\n",
    "            dp[i] = max(dp[i], dp[j] + 1)\n",
    "\n",
    "# 열외해야 하는 병사의 최소 수 출력\n",
    "print(n-max(dp))"
   ]
  }
 ],
 "metadata": {
  "kernelspec": {
   "display_name": "Python 3 (ipykernel)",
   "language": "python",
   "name": "python3"
  },
  "language_info": {
   "codemirror_mode": {
    "name": "ipython",
    "version": 3
   },
   "file_extension": ".py",
   "mimetype": "text/x-python",
   "name": "python",
   "nbconvert_exporter": "python",
   "pygments_lexer": "ipython3",
   "version": "3.8.12"
  },
  "toc": {
   "base_numbering": 1,
   "nav_menu": {},
   "number_sections": true,
   "sideBar": true,
   "skip_h1_title": false,
   "title_cell": "Table of Contents",
   "title_sidebar": "Contents",
   "toc_cell": false,
   "toc_position": {},
   "toc_section_display": true,
   "toc_window_display": false
  }
 },
 "nbformat": 4,
 "nbformat_minor": 5
}
