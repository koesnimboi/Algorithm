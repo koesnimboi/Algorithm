{
 "cells": [
  {
   "cell_type": "code",
   "execution_count": 73,
   "metadata": {},
   "outputs": [
    {
     "name": "stdout",
     "output_type": "stream",
     "text": [
      "5\n",
      "3\n"
     ]
    }
   ],
   "source": [
    "import sys\n",
    "\n",
    "input = sys.stdin.readline\n",
    "\n",
    "from collections import defaultdict\n",
    "\n",
    "T = int(input())\n",
    "\n",
    "for _ in range(T):\n",
    "    N = int(input())\n",
    "    wear_lst = defaultdict(list)\n",
    "    sum, mul = 0, 1\n",
    "\n",
    "    for _ in range(N):\n",
    "        wear = input().split()\n",
    "        wear_lst[wear[1]].append(wear[0])\n",
    "    \n",
    "    for idx, (key, value) in enumerate(wear_lst.items()):\n",
    "        sum += len(value)\n",
    "\n",
    "        if len(wear_lst.keys()) == 1:\n",
    "            mul *= 0\n",
    "        else:\n",
    "            mul *= len(value)\n",
    "    \n",
    "    print(sum+mul)"
   ]
  },
  {
   "cell_type": "code",
   "execution_count": 1,
   "metadata": {},
   "outputs": [
    {
     "name": "stdout",
     "output_type": "stream",
     "text": [
      "5\n",
      "3\n"
     ]
    }
   ],
   "source": [
    "# import sys\n",
    "\n",
    "# input = sys.stdin.readline\n",
    "\n",
    "from collections import defaultdict\n",
    "\n",
    "T = int(input())\n",
    "\n",
    "for _ in range(T):\n",
    "    N = int(input())\n",
    "    wear_lst = defaultdict(list)\n",
    "    cnt = 1\n",
    "\n",
    "    for _ in range(N):\n",
    "        wear = input().split()\n",
    "        wear_lst[wear[1]].append(wear[0])\n",
    "\n",
    "    for k in wear_lst:\n",
    "        cnt *= (len(wear_lst[k])+1)\n",
    "\n",
    "    print(cnt-1)"
   ]
  },
  {
   "cell_type": "markdown",
   "metadata": {},
   "source": [
    "> 후기\n",
    "\n",
    "- 얼추 맞은 것 같은데 식을 세워야 되는게 쪼끔 열받음\n",
    "\n",
    "- dict를 단순 for문 돌릴 때(for k in dict:), key값이 나온다는 걸 몰랐음\n",
    "\n",
    "- 얼추 유사하게 짠 것 같긴함. 근데 왜 첫 코드가 오답처리 되는지 모르겠음 시간초과도 아니구"
   ]
  }
 ],
 "metadata": {
  "kernelspec": {
   "display_name": "Python 3.9.6 64-bit",
   "language": "python",
   "name": "python3"
  },
  "language_info": {
   "codemirror_mode": {
    "name": "ipython",
    "version": 3
   },
   "file_extension": ".py",
   "mimetype": "text/x-python",
   "name": "python",
   "nbconvert_exporter": "python",
   "pygments_lexer": "ipython3",
   "version": "3.9.6"
  },
  "orig_nbformat": 4,
  "vscode": {
   "interpreter": {
    "hash": "31f2aee4e71d21fbe5cf8b01ff0e069b9275f58929596ceb00d14d90e3e16cd6"
   }
  }
 },
 "nbformat": 4,
 "nbformat_minor": 2
}
