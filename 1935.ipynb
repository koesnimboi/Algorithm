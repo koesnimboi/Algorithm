{
 "cells": [
  {
   "cell_type": "code",
   "execution_count": 1,
   "metadata": {},
   "outputs": [
    {
     "name": "stdout",
     "output_type": "stream",
     "text": [
      "6.20\n"
     ]
    }
   ],
   "source": [
    "N = int(input())\n",
    "form = input()\n",
    "nums = [0] * N\n",
    "\n",
    "for i in range(N):\n",
    "    nums[i] = int(input())\n",
    "    \n",
    "stack = []\n",
    "\n",
    "for i in form:\n",
    "    if 'A' <= i <= 'Z':\n",
    "        stack.append(nums[ord(i)-ord('A')])\n",
    "        \n",
    "    else:\n",
    "        str2 = stack.pop()\n",
    "        str1 = stack.pop()\n",
    "        \n",
    "        if i == '+':\n",
    "            stack.append(str1+str2)\n",
    "        elif i == '-':\n",
    "            stack.append(str1-str2)\n",
    "        elif i == '*':\n",
    "            stack.append(str1*str2)\n",
    "        elif i == '/':\n",
    "            stack.append(str1/str2)\n",
    "            \n",
    "print('%.2f'%stack[0])"
   ]
  }
 ],
 "metadata": {
  "kernelspec": {
   "display_name": "Python 3.9.6 64-bit",
   "language": "python",
   "name": "python3"
  },
  "language_info": {
   "codemirror_mode": {
    "name": "ipython",
    "version": 3
   },
   "file_extension": ".py",
   "mimetype": "text/x-python",
   "name": "python",
   "nbconvert_exporter": "python",
   "pygments_lexer": "ipython3",
   "version": "3.9.6"
  },
  "orig_nbformat": 4,
  "vscode": {
   "interpreter": {
    "hash": "31f2aee4e71d21fbe5cf8b01ff0e069b9275f58929596ceb00d14d90e3e16cd6"
   }
  }
 },
 "nbformat": 4,
 "nbformat_minor": 2
}
