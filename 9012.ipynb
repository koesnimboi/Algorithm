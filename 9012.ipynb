{
 "cells": [
  {
   "cell_type": "code",
   "execution_count": 1,
   "metadata": {},
   "outputs": [
    {
     "name": "stdout",
     "output_type": "stream",
     "text": [
      "NO\n",
      "YES\n"
     ]
    }
   ],
   "source": [
    "N = int(input())\n",
    "answer = []\n",
    "\n",
    "for _ in range(N):\n",
    "    \n",
    "    check_list = list(input())\n",
    "    sum = 0\n",
    "    \n",
    "    for i in check_list:\n",
    "        \n",
    "        if i =='(':\n",
    "            sum += 1\n",
    "        elif i == ')':\n",
    "            sum -= 1\n",
    "        if sum < 0:\n",
    "            break\n",
    "    \n",
    "    if sum == 0:\n",
    "        answer.append('YES')\n",
    "    else:\n",
    "        answer.append('NO')\n",
    "\n",
    "for i in range(0, len(answer)):\n",
    "    print(answer[i])"
   ]
  }
 ],
 "metadata": {
  "kernelspec": {
   "display_name": "Python 3.9.6 64-bit",
   "language": "python",
   "name": "python3"
  },
  "language_info": {
   "codemirror_mode": {
    "name": "ipython",
    "version": 3
   },
   "file_extension": ".py",
   "mimetype": "text/x-python",
   "name": "python",
   "nbconvert_exporter": "python",
   "pygments_lexer": "ipython3",
   "version": "3.9.6"
  },
  "orig_nbformat": 4,
  "vscode": {
   "interpreter": {
    "hash": "31f2aee4e71d21fbe5cf8b01ff0e069b9275f58929596ceb00d14d90e3e16cd6"
   }
  }
 },
 "nbformat": 4,
 "nbformat_minor": 2
}
