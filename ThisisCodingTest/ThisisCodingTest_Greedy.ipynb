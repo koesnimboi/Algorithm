{
 "cells": [
  {
   "cell_type": "markdown",
   "id": "d7ae6d75",
   "metadata": {},
   "source": [
    "### 그리디 알고리즘(탐욕법)\n",
    "\n",
    ": 현재 상황에서 지금 당장 좋은 것만 고르는 방법\n",
    "\n",
    ": 일반적인 그리디 알고리즘은 문제를 풀기 위한 최소한의 아이디어를 떠올릴 수 있는 능력을 요구함\n",
    "\n",
    ": 정당성 분석이 중요 -> 단순히 가장 좋아 보이는 것을 반복적으로 선택해도 최적의 해를 구할 수 있는 지 검토 필요"
   ]
  },
  {
   "cell_type": "code",
   "execution_count": 1,
   "id": "d160b707",
   "metadata": {},
   "outputs": [
    {
     "name": "stdout",
     "output_type": "stream",
     "text": [
      "6\n"
     ]
    }
   ],
   "source": [
    "# 거스름 돈\n",
    "\n",
    "n = 1260\n",
    "count = 0\n",
    "\n",
    "array = [500, 100, 50, 10]\n",
    "\n",
    "for coin in array:\n",
    "    count += n //coin # 해당 화폐로 거슬러 줄 수 있는 동전의 개수 세기\n",
    "    n %= coin\n",
    "    \n",
    "print(count)"
   ]
  },
  {
   "cell_type": "code",
   "execution_count": 1,
   "id": "be175e41",
   "metadata": {},
   "outputs": [
    {
     "name": "stdout",
     "output_type": "stream",
     "text": [
      "25 5\n",
      "2\n"
     ]
    }
   ],
   "source": [
    "n, k = map(int, input().split())\n",
    "cnt = 0\n",
    "\n",
    "while True:\n",
    "    if n % k ==0:\n",
    "        n = n // k\n",
    "        cnt += 1\n",
    "    else:\n",
    "        n = n-1\n",
    "        cnt += 1\n",
    "    \n",
    "    if n == 1:\n",
    "        break\n",
    "        \n",
    "print(cnt)"
   ]
  },
  {
   "cell_type": "code",
   "execution_count": 3,
   "id": "0e617914",
   "metadata": {},
   "outputs": [
    {
     "name": "stdout",
     "output_type": "stream",
     "text": [
      "25 5\n",
      "2\n"
     ]
    }
   ],
   "source": [
    "# solution -> 한번에 반복에 많은 연산 가능 -> 시간 복잡도 저하\n",
    "\n",
    "n, k = map(int, input().split())\n",
    "result = 0\n",
    "\n",
    "while True:\n",
    "    target = (n // k) * k # n이 k로 나누어 떨어지는 수가 될 때까지 빼기\n",
    "    result += (n - target)\n",
    "    n = target \n",
    "    \n",
    "    if n < k: # n이 k 보다 작을 때(더 이상 나눌 수 없을 때) 반복문 탈출\n",
    "        break\n",
    "        \n",
    "    result += 1\n",
    "    n //= k\n",
    "    \n",
    "result += (n - 1) # 마지막으로 남은 수에 대하여 1씩 빼기\n",
    "print(result)"
   ]
  },
  {
   "cell_type": "code",
   "execution_count": 12,
   "id": "f7d9c072",
   "metadata": {},
   "outputs": [
    {
     "name": "stdout",
     "output_type": "stream",
     "text": [
      "02984\n"
     ]
    },
    {
     "data": {
      "text/plain": [
       "576"
      ]
     },
     "execution_count": 12,
     "metadata": {},
     "output_type": "execute_result"
    }
   ],
   "source": [
    "s = input()\n",
    "\n",
    "result = int(s[0])\n",
    "\n",
    "for i in range(1, len(s)):\n",
    "    num = int(s[i])\n",
    "    \n",
    "    if num <= 1 or result <= 1:\n",
    "        result += num\n",
    "        \n",
    "    else:\n",
    "        result *= num\n",
    "        \n",
    "result"
   ]
  },
  {
   "cell_type": "code",
   "execution_count": 14,
   "id": "12f2cb37",
   "metadata": {},
   "outputs": [
    {
     "name": "stdout",
     "output_type": "stream",
     "text": [
      "02984\n"
     ]
    },
    {
     "data": {
      "text/plain": [
       "576"
      ]
     },
     "execution_count": 14,
     "metadata": {},
     "output_type": "execute_result"
    }
   ],
   "source": [
    "# solution\n",
    "\n",
    "data = input()\n",
    "# 첫 번째 문자를 숫자로 변경하여 대입\n",
    "\n",
    "result = int(data[0])\n",
    "\n",
    "for i in range(1, len(data)):\n",
    "    # 두 수 중에서 하나라도 0, 1인 경우 곱하기 보다는 더하기를 수행\n",
    "    num = int(data[i])\n",
    "    if num <=1 or result <= 1:\n",
    "        result += num\n",
    "    else:\n",
    "        result *= num\n",
    "\n",
    "result"
   ]
  },
  {
   "cell_type": "code",
   "execution_count": 20,
   "id": "9d2c7c59",
   "metadata": {},
   "outputs": [
    {
     "name": "stdout",
     "output_type": "stream",
     "text": [
      "5\n",
      "2\n",
      "3\n",
      "1\n",
      "2\n",
      "2\n",
      "2\n"
     ]
    }
   ],
   "source": [
    "n = int(input())\n",
    "people = sorted([int(input()) for _ in range(n)], reverse = True)\n",
    "cnt = 0\n",
    "\n",
    "while True:\n",
    "    people = people[people[0]:]\n",
    "    cnt += 1\n",
    "    \n",
    "    if people[0] == len(people):\n",
    "        cnt += 1\n",
    "        break\n",
    "    \n",
    "    if len(people) == 0:\n",
    "        break\n",
    "        \n",
    "print(cnt)"
   ]
  },
  {
   "cell_type": "code",
   "execution_count": 21,
   "id": "6f9fb499",
   "metadata": {},
   "outputs": [
    {
     "name": "stdout",
     "output_type": "stream",
     "text": [
      "5\n",
      "2 3 1 2 2\n",
      "2\n"
     ]
    }
   ],
   "source": [
    "# solution\n",
    "\n",
    "# 1) 오름차 순 정렬 이후 공포도가 가장 낮은 모험가부터 하나씩 확인\n",
    "# 2) 앞에서부터 공포도를 하나씩 확인하여 '현재 그룹에 포함된 모험가의 수'가 '현재 확인하고 있는 공포도'보다 크거나 같다면 이를 그룹으로 설정\n",
    "# 3) 이러한 방법을 이용하면 공포도가 오름차순으로 정렬되어 있다는 점에서, 항상 최소한의 모험가의 수만 포함하여 그룹을 결성하게 됨\n",
    "\n",
    "n = int(input())\n",
    "data = list(map(int, input().split()))\n",
    "data.sort()\n",
    "\n",
    "result = 0 # 총 그룹 수\n",
    "count = 0 # 현재 그룹에 포함된 모험가의 수\n",
    "\n",
    "for i in data: # 공포도를 낮은 것 부터 하나씩 확인\n",
    "    count += 1 # 현재 그룹에 해당 모함가 포함시키기\n",
    "    \n",
    "    if count >= i: # 현재 그룹에 포함된 모함가의 수가 현재의 공포도 이상이라면 그룹 결성\n",
    "        result += 1 # 총 그룹의 수 증가시키기\n",
    "        count = 0 # 현재 그룹에 포함된 모험가의 수 초기화\n",
    "\n",
    "print(result)"
   ]
  },
  {
   "cell_type": "markdown",
   "id": "2a3f8f63",
   "metadata": {},
   "source": [
    "### 구현 : 시뮬레이션과 완전 탐색\n",
    "\n",
    "- 구현(Implemetation) : 머릿속에 있는 알고리즘을 소스 코드로 바꾸는 과정\n",
    "\n",
    ": 풀이를 떠올리는 것은 쉽지만 소스 코드로 옮기기 어려운 문제\n",
    "\n",
    "ex)\n",
    "- 알고리즘은 간단한데 코드가 지나치게 길어지는 문제\n",
    "- 실수 연산을 다루고, 특정 소수점 자리까지 출력해야 하는 문제\n",
    "- 문자열을 특정한 기준에 따라서 끊어서 처리해야하는 문제\n",
    "- 적절한 라이브러리를 찾아서 사용해야 하는 문제\n",
    "\n",
    ": 일반적으로 알고리즘 문제에서의 2차원 공간은 행렬(Matrix)의 의미로 사용됨\n"
   ]
  },
  {
   "cell_type": "code",
   "execution_count": 8,
   "id": "809ed211",
   "metadata": {},
   "outputs": [
    {
     "name": "stdout",
     "output_type": "stream",
     "text": [
      "5\n",
      "R R R U D D\n",
      "3 4\n"
     ]
    }
   ],
   "source": [
    "n = int(input())\n",
    "plan = list(input().split())\n",
    "\n",
    "row, col = 1, 1\n",
    "\n",
    "for i in range(len(plan)):\n",
    "\n",
    "    if plan[i] == 'L':\n",
    "        col -= 1\n",
    "        if col < 1:\n",
    "            col += 1\n",
    "            continue\n",
    "    elif plan[i] == 'R':\n",
    "        col += 1\n",
    "        if col > n:\n",
    "            col -= 1\n",
    "            continue\n",
    "    elif plan[i] == 'U':\n",
    "        row -= 1      \n",
    "        if row < 1:\n",
    "            row += 1\n",
    "            continue\n",
    "            \n",
    "    elif plan[i] == 'D':\n",
    "        row += 1     \n",
    "        if row > n:\n",
    "            row -= 1\n",
    "            continue\n",
    "        \n",
    "print(row, col)"
   ]
  },
  {
   "cell_type": "code",
   "execution_count": 11,
   "id": "17d84a78",
   "metadata": {},
   "outputs": [
    {
     "name": "stdout",
     "output_type": "stream",
     "text": [
      "5\n",
      "R R R U D D\n",
      "3 4\n"
     ]
    }
   ],
   "source": [
    "# solution\n",
    "\n",
    "n = int(input())\n",
    "x, y = 1, 1\n",
    "plans = input().split()\n",
    "\n",
    "# L, R ,U, D 에 따른 이동 방향\n",
    "\n",
    "dx = [0, 0, -1, 1]\n",
    "dy = [-1, 1, 0, 0]\n",
    "move_types = ['L', 'R', 'U', 'D']\n",
    "\n",
    "# 이동 계획 하나씩 확인\n",
    "for plan in plans:\n",
    "    # 이동 후 좌표 구하기\n",
    "    for i in range(len(move_types)):\n",
    "        if plan == move_types[i]:\n",
    "            nx = x + dx[i]\n",
    "            ny = y + dy[i]\n",
    "    # 공간을 벗어나는 경우 무시\n",
    "    if nx < 1 or ny < 1 or nx > n or ny > n:\n",
    "        continue\n",
    "    # 이동 수행\n",
    "    x, y = nx, ny\n",
    "\n",
    "print(x, y)"
   ]
  },
  {
   "cell_type": "code",
   "execution_count": 14,
   "id": "2f3a6715",
   "metadata": {},
   "outputs": [
    {
     "name": "stdout",
     "output_type": "stream",
     "text": [
      "5\n"
     ]
    },
    {
     "data": {
      "text/plain": [
       "11475"
      ]
     },
     "execution_count": 14,
     "metadata": {},
     "output_type": "execute_result"
    }
   ],
   "source": [
    "hours = int(input())\n",
    "cnt = 0\n",
    "\n",
    "for h in range(hours+1):\n",
    "    for m in range(60):\n",
    "        for s in range(60):\n",
    "            if '3' in str(h) + str(m) + str(s):\n",
    "                cnt += 1\n",
    "\n",
    "cnt"
   ]
  },
  {
   "cell_type": "code",
   "execution_count": 15,
   "id": "e58c28e9",
   "metadata": {},
   "outputs": [
    {
     "name": "stdout",
     "output_type": "stream",
     "text": [
      "5\n"
     ]
    },
    {
     "data": {
      "text/plain": [
       "11475"
      ]
     },
     "execution_count": 15,
     "metadata": {},
     "output_type": "execute_result"
    }
   ],
   "source": [
    "# solution\n",
    "# 가능한 모든 시각의 경우를 하나씩 모두 세서 풀 수 있는 문제\n",
    "# 완전 탐색(Brute Forcing) 문제 유형\n",
    "## : 가능한 모든 경우의 수를 모두 검사해보는 탐색 방법\n",
    "\n",
    "h = int(input())\n",
    "count = 0\n",
    "\n",
    "for i in range(h + 1):\n",
    "    for j in range(60):\n",
    "        for k in range(60):\n",
    "            if '3' in str(i) + str(j) + str(k):\n",
    "                count += 1\n",
    "\n",
    "count"
   ]
  },
  {
   "cell_type": "code",
   "execution_count": null,
   "id": "5c8ac03a",
   "metadata": {},
   "outputs": [],
   "source": [
    "data = input()\n",
    "x = data[0]\n",
    "y = data[1]\n",
    "\n",
    "rows = ['a', 'b', 'c', 'd', 'e', 'f', 'g', 'h']\n",
    "cols = [i for i in range(1,9)]\n",
    "\n",
    "cnt = 0\n",
    "\n",
    "#move1 = row 2칸 이동, col 1칸 이동\n",
    "#move2 = row 1칸 이동, col 2칸 이동\n",
    "\n",
    "result_rows = None\n",
    "result_col = None\n",
    "\n",
    "while True:\n",
    "    for i in range(len(rows)):\n",
    "        if location[0] == rows[i]:\n",
    "        \n",
    "    cnt += 1\n",
    "        \n",
    "    if row not in rows or cols < 1 or cols > 8:\n",
    "        break\n",
    "        \n",
    "cnt"
   ]
  },
  {
   "cell_type": "code",
   "execution_count": 7,
   "id": "4a6da109",
   "metadata": {},
   "outputs": [
    {
     "name": "stdout",
     "output_type": "stream",
     "text": [
      "a1\n"
     ]
    },
    {
     "data": {
      "text/plain": [
       "2"
      ]
     },
     "execution_count": 7,
     "metadata": {},
     "output_type": "execute_result"
    }
   ],
   "source": [
    "# solution\n",
    "\n",
    "input_data = input()\n",
    "row = int(input_data[1])\n",
    "col = int(ord(input_data[0])) - int(ord('a')) + 1\n",
    "\n",
    "# 가능한 move1, move2 정의\n",
    "steps = [(-2, -1), (-1, -2), (1, -2), (2, -1), (2, 1), (1, 2), (-1, 2), (-2, 1)]\n",
    "\n",
    "cnt = 0\n",
    "for step in steps:\n",
    "    next_row  = row + step[0]\n",
    "    next_col = col + step[1]\n",
    "    \n",
    "    if next_row >= 1 and next_row <= 8 and next_col >= 1 and next_col <= 8:\n",
    "        cnt += 1\n",
    "        \n",
    "cnt"
   ]
  },
  {
   "cell_type": "code",
   "execution_count": 28,
   "id": "0652c727",
   "metadata": {},
   "outputs": [
    {
     "name": "stdout",
     "output_type": "stream",
     "text": [
      "K1KA5CB7\n",
      "ABCKK13\n"
     ]
    }
   ],
   "source": [
    "s = input()\n",
    "\n",
    "stck_alpha = []\n",
    "stck_num = []\n",
    "\n",
    "for letter in s:\n",
    "    try:\n",
    "        stck_num.append(int(letter))\n",
    "        \n",
    "    except ValueError:\n",
    "        stck_alpha.append(letter)\n",
    "\n",
    "alphabet = ''.join(sorted(stck_alpha))\n",
    "num = sum(stck_num)\n",
    "\n",
    "print(alphabet + str(num))"
   ]
  },
  {
   "cell_type": "code",
   "execution_count": 29,
   "id": "8e72b7a0",
   "metadata": {},
   "outputs": [
    {
     "name": "stdout",
     "output_type": "stream",
     "text": [
      "K1KA5CB7\n",
      "ABCKK13\n"
     ]
    }
   ],
   "source": [
    "# solution\n",
    "\n",
    "data  = input()\n",
    "result = []\n",
    "value = 0\n",
    "\n",
    "for x in data:\n",
    "    if x.isalpha():\n",
    "        result.append(x)\n",
    "    else:\n",
    "        value += int(x)\n",
    "        \n",
    "result.sort()\n",
    "\n",
    "if value != 0:\n",
    "    result.append(str(value))\n",
    "    \n",
    "print(''.join(result))"
   ]
  },
  {
   "cell_type": "markdown",
   "id": "bb6b25fa",
   "metadata": {},
   "source": [
    "### 그리디 / 구현 복습"
   ]
  },
  {
   "cell_type": "code",
   "execution_count": 5,
   "id": "10caa904",
   "metadata": {},
   "outputs": [
    {
     "name": "stdout",
     "output_type": "stream",
     "text": [
      "1260\n"
     ]
    },
    {
     "data": {
      "text/plain": [
       "6"
      ]
     },
     "execution_count": 5,
     "metadata": {},
     "output_type": "execute_result"
    }
   ],
   "source": [
    "n = int(input())\n",
    "\n",
    "coins = [500, 100, 50, 10]\n",
    "cnt = 0\n",
    "\n",
    "for coin in coins:\n",
    "    cnt += n// coin\n",
    "    n %= coin\n",
    "\n",
    "cnt"
   ]
  },
  {
   "cell_type": "code",
   "execution_count": 10,
   "id": "a1988270",
   "metadata": {},
   "outputs": [
    {
     "name": "stdout",
     "output_type": "stream",
     "text": [
      "17 4\n"
     ]
    },
    {
     "data": {
      "text/plain": [
       "3"
      ]
     },
     "execution_count": 10,
     "metadata": {},
     "output_type": "execute_result"
    }
   ],
   "source": [
    "n, k = map(int, input().split())\n",
    "\n",
    "cnt = 0\n",
    "\n",
    "while True:\n",
    "    if n % k == 0:\n",
    "        n = n//k\n",
    "        cnt += 1\n",
    "    else:\n",
    "        n = n-1\n",
    "        cnt += 1\n",
    "    \n",
    "    if n ==1:\n",
    "        break\n",
    "\n",
    "cnt"
   ]
  },
  {
   "cell_type": "code",
   "execution_count": 14,
   "id": "a6b21551",
   "metadata": {},
   "outputs": [
    {
     "name": "stdout",
     "output_type": "stream",
     "text": [
      "567\n"
     ]
    },
    {
     "data": {
      "text/plain": [
       "210"
      ]
     },
     "execution_count": 14,
     "metadata": {},
     "output_type": "execute_result"
    }
   ],
   "source": [
    "s = input()\n",
    "\n",
    "result = int(s[0])\n",
    "\n",
    "for i in range(1, len(s)):\n",
    "    num = int(s[i])\n",
    "    \n",
    "    if num <= 1 or result <= 1:\n",
    "        result += num\n",
    "    \n",
    "    else:\n",
    "        result *= num\n",
    "\n",
    "result"
   ]
  },
  {
   "cell_type": "code",
   "execution_count": 19,
   "id": "268ef89b",
   "metadata": {},
   "outputs": [
    {
     "name": "stdout",
     "output_type": "stream",
     "text": [
      "5\n",
      "2 3 1 2 2\n"
     ]
    },
    {
     "data": {
      "text/plain": [
       "2"
      ]
     },
     "execution_count": 19,
     "metadata": {},
     "output_type": "execute_result"
    }
   ],
   "source": [
    "n = int(input())\n",
    "array = list(map(int, input().split()))\n",
    "array.sort()\n",
    "\n",
    "cnt = 0\n",
    "result = 0\n",
    "\n",
    "for i in array:\n",
    "    cnt += 1\n",
    "    \n",
    "    if cnt >= i:\n",
    "        result += 1\n",
    "        cnt = 0\n",
    "result"
   ]
  },
  {
   "cell_type": "code",
   "execution_count": 29,
   "id": "b81c9872",
   "metadata": {},
   "outputs": [
    {
     "name": "stdout",
     "output_type": "stream",
     "text": [
      "5\n",
      "R R R U D D\n",
      "3 4\n"
     ]
    }
   ],
   "source": [
    "n = int(input())\n",
    "orders = input().split()\n",
    "\n",
    "x, y = 1, 1\n",
    "dx = [0, 0, -1, 1]\n",
    "dy = [-1, 1, 0, 0]\n",
    "\n",
    "moves_types = ['L', 'R', 'U', 'D']\n",
    "\n",
    "for order in orders:\n",
    "    for i in range(len(moves_types)):\n",
    "        if order == moves_types[i]:\n",
    "            nx = x + dx[i]\n",
    "            ny = y + dy[i]\n",
    "    \n",
    "    if nx < 1 or nx > n or ny < 1 or ny > n:\n",
    "        continue\n",
    "        \n",
    "    x, y = nx, ny\n",
    "    \n",
    "print(x, y)"
   ]
  },
  {
   "cell_type": "code",
   "execution_count": 32,
   "id": "986613b3",
   "metadata": {},
   "outputs": [
    {
     "name": "stdout",
     "output_type": "stream",
     "text": [
      "5\n"
     ]
    },
    {
     "data": {
      "text/plain": [
       "11475"
      ]
     },
     "execution_count": 32,
     "metadata": {},
     "output_type": "execute_result"
    }
   ],
   "source": [
    "hours = int(input())\n",
    "cnt = 0\n",
    "\n",
    "for hour in range(hours+1):\n",
    "    for m in range(60):\n",
    "        for s in range(60):\n",
    "            if '3' in str(hour) + str(m) + str(s):\n",
    "                cnt += 1\n",
    "cnt"
   ]
  },
  {
   "cell_type": "code",
   "execution_count": 34,
   "id": "0dcb2d54",
   "metadata": {},
   "outputs": [
    {
     "name": "stdout",
     "output_type": "stream",
     "text": [
      "a1\n"
     ]
    },
    {
     "data": {
      "text/plain": [
       "2"
      ]
     },
     "execution_count": 34,
     "metadata": {},
     "output_type": "execute_result"
    }
   ],
   "source": [
    "location = input()\n",
    "\n",
    "row_location = int(location[1])\n",
    "col_location = int(ord(location[0])) - int(ord('a')) +1\n",
    "\n",
    "moves_types = [(-2, -1), (2, -1), (-2, 1), (2, 1), (-1, -2), (-1, 2), (1, -2), (1, 2)]\n",
    "\n",
    "cnt = 0\n",
    "\n",
    "for moves_type in moves_types:\n",
    "    next_row = row_location + moves_type[0]\n",
    "    next_col = col_location + moves_type[1]\n",
    "    \n",
    "    if next_row <= 8 and next_row >= 1 and next_col <= 8 and next_col >= 1:\n",
    "        cnt +=1\n",
    "        \n",
    "cnt"
   ]
  },
  {
   "cell_type": "code",
   "execution_count": 35,
   "id": "92b5d0b9",
   "metadata": {},
   "outputs": [
    {
     "name": "stdout",
     "output_type": "stream",
     "text": [
      "K1KA5CB7\n",
      "ABCKK13\n"
     ]
    }
   ],
   "source": [
    "input_data = input()\n",
    "alpha = []\n",
    "num = 0\n",
    "\n",
    "for i in range(len(input_data)):\n",
    "    if input_data[i].isalpha():\n",
    "        alpha.append(input_data[i])\n",
    "    else:\n",
    "        num += int(input_data[i])\n",
    "    \n",
    "alpha.sort()\n",
    "print(''.join(alpha) + str(num))"
   ]
  }
 ],
 "metadata": {
  "kernelspec": {
   "display_name": "Python 3 (ipykernel)",
   "language": "python",
   "name": "python3"
  },
  "language_info": {
   "codemirror_mode": {
    "name": "ipython",
    "version": 3
   },
   "file_extension": ".py",
   "mimetype": "text/x-python",
   "name": "python",
   "nbconvert_exporter": "python",
   "pygments_lexer": "ipython3",
   "version": "3.8.12"
  }
 },
 "nbformat": 4,
 "nbformat_minor": 5
}
